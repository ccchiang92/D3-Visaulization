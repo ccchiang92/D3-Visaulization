{
 "cells": [
  {
   "cell_type": "code",
   "execution_count": 1,
   "metadata": {},
   "outputs": [],
   "source": [
    "import pandas as pd\n",
    "from bs4 import BeautifulSoup as bs\n",
    "import requests\n",
    "import datetime as dt\n",
    "from splinter import Browser\n",
    "import time\n",
    "import re\n"
   ]
  },
  {
   "cell_type": "code",
   "execution_count": 3,
   "metadata": {},
   "outputs": [],
   "source": [
    "def start_browser():\n",
    "    # browser init for webscraping\n",
    "    executable_path = {'executable_path': 'chromedriver.exe'}\n",
    "    browser = Browser('chrome', **executable_path, headless=False)\n",
    "    return browser"
   ]
  },
  {
   "cell_type": "code",
   "execution_count": 47,
   "metadata": {},
   "outputs": [
    {
     "output_type": "stream",
     "name": "stdout",
     "text": "2003-03-17\n2003-03-18\n2003-03-19\n2003-03-20\n2003-03-21\n2003-03-22\nno data for 23 March 2003\n2003-03-24\n2003-03-25\n2003-03-26\n2003-03-27\n2003-03-28\n2003-03-29\nno data for 30 March 2003\n2003-03-31\n2003-04-01\n2003-04-02\n2003-04-03\n2003-04-04\n2003-04-05\n2003-04-06\n2003-04-07\n2003-04-08\n2003-04-09\n2003-04-10\n2003-04-11\n2003-04-12\nno data for 13 April 2003\n2003-04-14\n2003-04-15\n2003-04-16\n2003-04-17\n2003-04-18\n2003-04-19\nno data for 20 April 2003\n2003-04-21\n2003-04-22\n2003-04-23\n2003-04-24\n2003-04-25\n2003-04-26\nno data for 27 April 2003\n2003-04-28\n2003-04-29\n2003-04-30\n2003-05-01\n2003-05-02\n2003-05-03\n2003-05-04\n2003-05-05\n2003-05-06\n2003-05-07\n2003-05-08\n2003-05-09\n2003-05-10\nno data for 11 May 2003\n2003-05-12\n2003-05-13\n2003-05-14\n2003-05-15\n2003-05-16\n2003-05-17\nno data for 18 May 2003\n2003-05-19\n2003-05-20\n2003-05-21\n2003-05-22\n2003-05-23\n2003-05-24\nno data for 25 May 2003\n2003-05-26\n2003-05-27\n2003-05-28\n2003-05-29\n2003-05-30\n2003-05-31\n2003-06-01\n2003-06-02\n2003-06-03\n2003-06-04\n2003-06-05\n2003-06-06\n2003-06-07\n2003-06-08\n2003-06-09\n2003-06-10\n2003-06-11\n2003-06-12\n2003-06-13\nno data for 14 June 2003\nno data for 15 June 2003\n2003-06-16\n2003-06-17\n2003-06-18\n2003-06-19\n2003-06-20\nno data for 21 June 2003\nno data for 22 June 2003\n2003-06-23\n2003-06-24\n2003-06-25\n2003-06-26\n2003-06-27\nno data for 28 June 2003\nno data for 29 June 2003\n2003-06-30\n2003-07-01\n2003-07-02\n2003-07-03\n2003-07-04\nno data for 5 July 2003\nno data for 6 July 2003\n2003-07-07\n2003-07-08\n2003-07-09\n2003-07-10\n2003-07-11\n"
    },
    {
     "output_type": "execute_result",
     "data": {
      "text/plain": "          Date          Country Cases Deaths\n1   2003-03-17          Germany     1      0\n2   2003-03-17           Canada     8      2\n3   2003-03-17        Singapore    20      0\n4   2003-03-17        Hong Kong    95    1**\n5   2003-03-17      Switzerland     2      0\n..         ...              ...   ...    ...\n28  2003-07-11         Thailand     9      2\n29  2003-07-11   United Kingdom     4      0\n30  2003-07-11  United States^7    75      0\n31  2003-07-11         Viet Nam    63      5\n32  2003-07-11            Total  8437    813\n\n[2852 rows x 4 columns]",
      "text/html": "<div>\n<style scoped>\n    .dataframe tbody tr th:only-of-type {\n        vertical-align: middle;\n    }\n\n    .dataframe tbody tr th {\n        vertical-align: top;\n    }\n\n    .dataframe thead th {\n        text-align: right;\n    }\n</style>\n<table border=\"1\" class=\"dataframe\">\n  <thead>\n    <tr style=\"text-align: right;\">\n      <th></th>\n      <th>Date</th>\n      <th>Country</th>\n      <th>Cases</th>\n      <th>Deaths</th>\n    </tr>\n  </thead>\n  <tbody>\n    <tr>\n      <td>1</td>\n      <td>2003-03-17</td>\n      <td>Germany</td>\n      <td>1</td>\n      <td>0</td>\n    </tr>\n    <tr>\n      <td>2</td>\n      <td>2003-03-17</td>\n      <td>Canada</td>\n      <td>8</td>\n      <td>2</td>\n    </tr>\n    <tr>\n      <td>3</td>\n      <td>2003-03-17</td>\n      <td>Singapore</td>\n      <td>20</td>\n      <td>0</td>\n    </tr>\n    <tr>\n      <td>4</td>\n      <td>2003-03-17</td>\n      <td>Hong Kong</td>\n      <td>95</td>\n      <td>1**</td>\n    </tr>\n    <tr>\n      <td>5</td>\n      <td>2003-03-17</td>\n      <td>Switzerland</td>\n      <td>2</td>\n      <td>0</td>\n    </tr>\n    <tr>\n      <td>...</td>\n      <td>...</td>\n      <td>...</td>\n      <td>...</td>\n      <td>...</td>\n    </tr>\n    <tr>\n      <td>28</td>\n      <td>2003-07-11</td>\n      <td>Thailand</td>\n      <td>9</td>\n      <td>2</td>\n    </tr>\n    <tr>\n      <td>29</td>\n      <td>2003-07-11</td>\n      <td>United Kingdom</td>\n      <td>4</td>\n      <td>0</td>\n    </tr>\n    <tr>\n      <td>30</td>\n      <td>2003-07-11</td>\n      <td>United States^7</td>\n      <td>75</td>\n      <td>0</td>\n    </tr>\n    <tr>\n      <td>31</td>\n      <td>2003-07-11</td>\n      <td>Viet Nam</td>\n      <td>63</td>\n      <td>5</td>\n    </tr>\n    <tr>\n      <td>32</td>\n      <td>2003-07-11</td>\n      <td>Total</td>\n      <td>8437</td>\n      <td>813</td>\n    </tr>\n  </tbody>\n</table>\n<p>2852 rows × 4 columns</p>\n</div>"
     },
     "metadata": {},
     "execution_count": 47
    }
   ],
   "source": [
    "# setting date parameters\n",
    "start_date = dt.date(2003, 3,17)\n",
    "format_change_date1 =dt.date(2003,4,10)\n",
    "format_change_date2 =dt.date(2003,4,24)\n",
    "end_date = dt.date(2003, 7,12)\n",
    "cur_date = start_date\n",
    "# Setting browers params\n",
    "output_df=pd.DataFrame({'Date':'', 'Country':'','Cases':'','Deaths':''},index=[])\n",
    "home ='https://www.who.int/csr/sars/country/en/'\n",
    "browser=start_browser()\n",
    "browser.visit(home)\n",
    "# loop though WHO links\n",
    "while cur_date!= end_date:\n",
    "    # search string formatting\n",
    "    date_string = cur_date.strftime(\"%d %B %Y\")\n",
    "    if date_string[0]=='0':\n",
    "        date_string=date_string[1:]\n",
    "    # Catch some missing dates\n",
    "    try:\n",
    "        browser.click_link_by_partial_text(date_string)\n",
    "        html = bs(browser.html, 'html.parser')\n",
    "        tab_tag=html.find('table')\n",
    "        # read html table into df\n",
    "        temp_df = pd.read_html(str(tab_tag))[0]\n",
    "        browser.back()\n",
    "        # Deal with some region name formatting\n",
    "        if cur_date == dt.date(2003,6,9):\n",
    "            temp_df = temp_df.iloc[:-1]\n",
    "        for index, row in temp_df.iterrows():\n",
    "            if row[0].find('Hong Kong') != -1:\n",
    "                temp_df.iloc[index,0]=\"Hong Kong\"\n",
    "            elif row[0].find('Taiwan') != -1:\n",
    "                temp_df.iloc[index,0]=\"Taiwan\"\n",
    "            elif row[0].find('Guangdong') != -1:\n",
    "                temp_df.iloc[index,0]=\"China\"\n",
    "            elif row[0].find('Macao') != -1:\n",
    "                temp_df.iloc[index,0]=\"China\"\n",
    "            elif row[0].find('China +') != -1:\n",
    "                temp_df.iloc[index,0]=\"China\"\n",
    "        # table format 1\n",
    "        if cur_date < format_change_date1:\n",
    "            temp_df=temp_df.iloc[1:,:3]\n",
    "            temp_df.rename(columns={0:'Country',1:'Cases',2:'Deaths'},inplace=True)\n",
    "            temp_df['Date']=cur_date\n",
    "            temp_df=temp_df[['Date','Country','Cases','Deaths']]\n",
    "            output_df=output_df.append(temp_df)\n",
    "        # table format 2\n",
    "        elif cur_date < format_change_date2:\n",
    "            temp_df=temp_df.iloc[2:,:4]\n",
    "            temp_df.rename(columns={0:'Country',1:'Cases',3:'Deaths'},inplace=True)\n",
    "            temp_df['Date']=cur_date\n",
    "            temp_df=temp_df[['Date','Country','Cases','Deaths']]\n",
    "            output_df=output_df.append(temp_df)\n",
    "        # format 3\n",
    "        else:\n",
    "            append_df=pd.DataFrame()\n",
    "            append_df['Country']=temp_df.iloc[:,0]\n",
    "            append_df['Cases']=temp_df.iloc[:,1]\n",
    "            append_df['Deaths']=temp_df.iloc[:,3]\n",
    "            append_df['Date']=cur_date\n",
    "            append_df=append_df[['Date','Country','Cases','Deaths']]\n",
    "            output_df=output_df.append(append_df)\n",
    "        print(cur_date)\n",
    "        cur_date += dt.timedelta(days=1)\n",
    "    except:\n",
    "        print('no data for '+date_string)\n",
    "        cur_date += dt.timedelta(days=1)\n",
    "browser.quit()\n",
    "output_df"
   ]
  },
  {
   "cell_type": "code",
   "execution_count": 57,
   "metadata": {},
   "outputs": [
    {
     "output_type": "execute_result",
     "data": {
      "text/plain": "array(['Germany', 'Canada', 'Singapore', 'Hong Kong', 'Switzerland',\n       'Thailand', 'Viet Nam', 'Total', 'China', 'Taiwan', 'Slovenia',\n       'United Kingdom', 'China+', 'Spain', 'United States', 'Italy',\n       'Republic of Ireland', 'China\\xa0+', 'France', 'Romania', 'China3',\n       'Australia', 'Belgium', 'Brazil', 'Malaysia', 'Country',\n       'Indonesia', 'Japan', 'Kuwait', 'Philippines', 'South Africa',\n       'Sweden', 'Viet Nam 5', 'India', 'Mongolia', 'United States5',\n       'Bulgaria', 'China^5', 'Republic of Korea', 'Poland',\n       'New Zealand', 'Colombia', 'Finland', 'Canada^4',\n       'Russian Federation', 'Philippines^5', 'Philippines^7',\n       'United States^8', 'United States^7'], dtype=object)"
     },
     "metadata": {},
     "execution_count": 57
    }
   ],
   "source": [
    "output_df['Country'].unique()"
   ]
  },
  {
   "cell_type": "code",
   "execution_count": 5,
   "metadata": {},
   "outputs": [
    {
     "output_type": "execute_result",
     "data": {
      "text/plain": "'U S A'"
     },
     "metadata": {},
     "execution_count": 5
    }
   ],
   "source": [
    "# output_df_cleaned = output_df\n",
    "alphabet_only = re.compile('[^a-zA-Z ]')\n",
    "test ='U S A^7'\n",
    "alphabet_only.sub('',test)\n",
    "#First parameter is the replacement, second parameter is your input string\n",
    "# output_df_cleaned['Country']=output_df_cleaned['Country'].apply(lambda x:alphabet_only.sub('',x))\n",
    "# output_df_cleaned['Country'].apply(lambda x:alphabet_only.sub('',x))\n",
    "# for index, row in output_df.iterrows():\n",
    "#     country_string = row['Country']\n",
    "#     if country_string.find('United States') !=-1:\n",
    "#         output_df_cleaned.iloc[index]['Country']='United States'\n",
    "#     elif country_string.find('Philippines') !=-1:\n",
    "#         output_df_cleaned.iloc[index]['Country']='Philippines'\n",
    "#     elif country_string.find('China') !=-1:\n",
    "#         output_df_cleaned.iloc[index]['Country']='China'\n",
    "#     elif country_string.find('Viet Nam') !=-1:\n",
    "#         output_df_cleaned.iloc[index]['Country']='Viet Nam'"
   ]
  },
  {
   "cell_type": "code",
   "execution_count": 59,
   "metadata": {},
   "outputs": [
    {
     "output_type": "execute_result",
     "data": {
      "text/plain": "array(['Germany', 'Canada', 'Singapore', 'Hong Kong', 'Switzerland',\n       'Thailand', 'Viet Nam', 'Total', 'China', 'Taiwan', 'Slovenia',\n       'United Kingdom', 'China+', 'Spain', 'United States', 'Italy',\n       'Republic of Ireland', 'China\\xa0+', 'France', 'Romania', 'China3',\n       'Australia', 'Belgium', 'Brazil', 'Malaysia', 'Country',\n       'Indonesia', 'Japan', 'Kuwait', 'Philippines', 'South Africa',\n       'Sweden', 'Viet Nam 5', 'India', 'Mongolia', 'United States5',\n       'Bulgaria', 'China^5', 'Republic of Korea', 'Poland',\n       'New Zealand', 'Colombia', 'Finland', 'Canada^4',\n       'Russian Federation', 'Philippines^5', 'Philippines^7',\n       'United States^8', 'United States^7'], dtype=object)"
     },
     "metadata": {},
     "execution_count": 59
    }
   ],
   "source": [
    "output_df_cleaned['Country'].unique()"
   ]
  },
  {
   "cell_type": "code",
   "execution_count": 37,
   "metadata": {},
   "outputs": [
    {
     "output_type": "execute_result",
     "data": {
      "text/plain": "          Date        Country Cases Deaths\n1   2003-03-17        Germany     1      0\n2   2003-03-17         Canada     8      2\n3   2003-03-17      Singapore    20      0\n4   2003-03-17       HongKong    95    1**\n5   2003-03-17    Switzerland     2      0\n..         ...            ...   ...    ...\n28  2003-07-11       Thailand     9      2\n29  2003-07-11  UnitedKingdom     4      0\n30  2003-07-11   UnitedStates    75      0\n31  2003-07-11        VietNam    63      5\n32  2003-07-11          Total  8437    813\n\n[2852 rows x 4 columns]",
      "text/html": "<div>\n<style scoped>\n    .dataframe tbody tr th:only-of-type {\n        vertical-align: middle;\n    }\n\n    .dataframe tbody tr th {\n        vertical-align: top;\n    }\n\n    .dataframe thead th {\n        text-align: right;\n    }\n</style>\n<table border=\"1\" class=\"dataframe\">\n  <thead>\n    <tr style=\"text-align: right;\">\n      <th></th>\n      <th>Date</th>\n      <th>Country</th>\n      <th>Cases</th>\n      <th>Deaths</th>\n    </tr>\n  </thead>\n  <tbody>\n    <tr>\n      <td>1</td>\n      <td>2003-03-17</td>\n      <td>Germany</td>\n      <td>1</td>\n      <td>0</td>\n    </tr>\n    <tr>\n      <td>2</td>\n      <td>2003-03-17</td>\n      <td>Canada</td>\n      <td>8</td>\n      <td>2</td>\n    </tr>\n    <tr>\n      <td>3</td>\n      <td>2003-03-17</td>\n      <td>Singapore</td>\n      <td>20</td>\n      <td>0</td>\n    </tr>\n    <tr>\n      <td>4</td>\n      <td>2003-03-17</td>\n      <td>HongKong</td>\n      <td>95</td>\n      <td>1**</td>\n    </tr>\n    <tr>\n      <td>5</td>\n      <td>2003-03-17</td>\n      <td>Switzerland</td>\n      <td>2</td>\n      <td>0</td>\n    </tr>\n    <tr>\n      <td>...</td>\n      <td>...</td>\n      <td>...</td>\n      <td>...</td>\n      <td>...</td>\n    </tr>\n    <tr>\n      <td>28</td>\n      <td>2003-07-11</td>\n      <td>Thailand</td>\n      <td>9</td>\n      <td>2</td>\n    </tr>\n    <tr>\n      <td>29</td>\n      <td>2003-07-11</td>\n      <td>UnitedKingdom</td>\n      <td>4</td>\n      <td>0</td>\n    </tr>\n    <tr>\n      <td>30</td>\n      <td>2003-07-11</td>\n      <td>UnitedStates</td>\n      <td>75</td>\n      <td>0</td>\n    </tr>\n    <tr>\n      <td>31</td>\n      <td>2003-07-11</td>\n      <td>VietNam</td>\n      <td>63</td>\n      <td>5</td>\n    </tr>\n    <tr>\n      <td>32</td>\n      <td>2003-07-11</td>\n      <td>Total</td>\n      <td>8437</td>\n      <td>813</td>\n    </tr>\n  </tbody>\n</table>\n<p>2852 rows × 4 columns</p>\n</div>"
     },
     "metadata": {},
     "execution_count": 37
    }
   ],
   "source": [
    "output_df_cleaned"
   ]
  },
  {
   "cell_type": "code",
   "execution_count": null,
   "metadata": {},
   "outputs": [],
   "source": []
  }
 ],
 "metadata": {
  "kernelspec": {
   "display_name": "Python 3.7.4 64-bit ('base': conda)",
   "language": "python",
   "name": "python37464bitbaseconda6b55c75a92594a4496380a81f2f453fd"
  },
  "language_info": {
   "codemirror_mode": {
    "name": "ipython",
    "version": 3
   },
   "file_extension": ".py",
   "mimetype": "text/x-python",
   "name": "python",
   "nbconvert_exporter": "python",
   "pygments_lexer": "ipython3",
   "version": "3.7.4-final"
  }
 },
 "nbformat": 4,
 "nbformat_minor": 2
}