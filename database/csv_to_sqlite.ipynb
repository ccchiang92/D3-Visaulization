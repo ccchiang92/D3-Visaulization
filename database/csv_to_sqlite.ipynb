{
 "cells": [
  {
   "cell_type": "code",
   "execution_count": 6,
   "metadata": {},
   "outputs": [],
   "source": [
    "# Coverting csv data files into a sqlite database\n",
    "# By Chris Chiang\n",
    "import numpy as np\n",
    "import pandas as pd\n",
    "import datetime as dt"
   ]
  },
  {
   "cell_type": "code",
   "execution_count": 7,
   "metadata": {},
   "outputs": [],
   "source": [
    "import sqlalchemy\n",
    "from sqlalchemy.ext.automap import automap_base\n",
    "from sqlalchemy.orm import Session\n",
    "from sqlalchemy import create_engine, func, inspect, Column\n",
    "from sqlalchemy.types import Float, String, Date, BigInteger\n",
    "from sqlalchemy.ext.declarative import declarative_base"
   ]
  },
  {
   "cell_type": "code",
   "execution_count": 32,
   "metadata": {},
   "outputs": [],
   "source": [
    "# setting up starting parameters\n",
    "data_loc = '../cleaned_data/In_progress/covid_weekly/'\n",
    "start_date = dt.date(2020, 1, 22)\n",
    "last_date = dt.date(2020, 5, 5)\n",
    "days = (last_date - start_date).days\n",
    "datelabels=[]"
   ]
  },
  {
   "cell_type": "code",
   "execution_count": 33,
   "metadata": {},
   "outputs": [],
   "source": [
    "weeklyData=[]\n",
    "current_date =start_date\n",
    "for day in range(round(int(days)/7)):\n",
    "    # convert date into string and load in csv\n",
    "    load_string = current_date.strftime(\"%m-%d-%Y\")\n",
    "    try:\n",
    "        today_df = pd.read_csv(data_loc +'covid_weekly'+ load_string +\n",
    "                               '.csv')\n",
    "        # today_df = today_df.fillna(None)\n",
    "        datelabels.append(load_string)\n",
    "        weeklyData.append(today_df)\n",
    "    except:\n",
    "        print('no data')\n",
    "        print(current_date)\n",
    "    current_date = current_date + dt.timedelta(days=7)\n"
   ]
  },
  {
   "cell_type": "code",
   "execution_count": 34,
   "metadata": {},
   "outputs": [
    {
     "output_type": "execute_result",
     "data": {
      "text/plain": "['01-22-2020',\n '01-29-2020',\n '02-05-2020',\n '02-12-2020',\n '02-19-2020',\n '02-26-2020',\n '03-04-2020',\n '03-11-2020',\n '03-18-2020',\n '03-25-2020',\n '04-01-2020',\n '04-08-2020',\n '04-15-2020',\n '04-22-2020',\n '04-29-2020']"
     },
     "metadata": {},
     "execution_count": 34
    }
   ],
   "source": [
    "weeklyData[0].head()\n",
    "datelabels"
   ]
  },
  {
   "cell_type": "code",
   "execution_count": 35,
   "metadata": {},
   "outputs": [],
   "source": [
    "for df in weeklyData:\n",
    "    df['Date']=df['Date'].apply(lambda x : dt.date.fromisoformat(x))\n",
    "    df['Confirmed']=df['Confirmed'].apply(lambda x : int(x))\n",
    "    df['Deaths']=df['Deaths'].apply(lambda x : int(x))"
   ]
  },
  {
   "cell_type": "code",
   "execution_count": 36,
   "metadata": {},
   "outputs": [
    {
     "output_type": "execute_result",
     "data": {
      "text/plain": "Province/State     object\nCountry/Region     object\nConfirmed           int64\nDeaths              int64\nDate               object\nLatitude          float64\nLongitude         float64\ndtype: object"
     },
     "metadata": {},
     "execution_count": 36
    }
   ],
   "source": [
    "weeklyData[0].dtypes"
   ]
  },
  {
   "cell_type": "code",
   "execution_count": 28,
   "metadata": {},
   "outputs": [
    {
     "output_type": "stream",
     "name": "stdout",
     "text": "2020-05-10 16:30:48,216 INFO sqlalchemy.engine.base.Engine SELECT CAST('test plain returns' AS VARCHAR(60)) AS anon_1\n2020-05-10 16:30:48,217 INFO sqlalchemy.engine.base.Engine ()\n2020-05-10 16:30:48,219 INFO sqlalchemy.engine.base.Engine SELECT CAST('test unicode returns' AS VARCHAR(60)) AS anon_1\n2020-05-10 16:30:48,220 INFO sqlalchemy.engine.base.Engine ()\n"
    }
   ],
   "source": [
    "# create sqlite file\n",
    "engine = create_engine(\"sqlite:///Covid19_Weekly.sqlite\", echo=True)\n",
    "conn = engine.connect()"
   ]
  },
  {
   "cell_type": "code",
   "execution_count": 37,
   "metadata": {},
   "outputs": [],
   "source": [
    "# define data types\n",
    "table_type={'Date':Date ,'Country/Region':String,'Confirmed':BigInteger,'Deaths':BigInteger,'Province/State':String,'Latitude':Float,'Longitude':Float}"
   ]
  },
  {
   "cell_type": "code",
   "execution_count": 39,
   "metadata": {
    "tags": [
     "outputPrepend",
     "outputPrepend",
     "outputPrepend",
     "outputPrepend",
     "outputPrepend",
     "outputPrepend",
     "outputPrepend",
     "outputPrepend",
     "outputPrepend",
     "outputPrepend",
     "outputPrepend",
     "outputPrepend",
     "outputPrepend",
     "outputPrepend",
     "outputPrepend",
     "outputPrepend",
     "outputPrepend",
     "outputPrepend",
     "outputPrepend",
     "outputPrepend",
     "outputPrepend",
     "outputPrepend",
     "outputPrepend",
     "outputPrepend",
     "outputPrepend",
     "outputPrepend",
     "outputPrepend",
     "outputPrepend",
     "outputPrepend",
     "outputPrepend",
     "outputPrepend",
     "outputPrepend",
     "outputPrepend",
     "outputPrepend",
     "outputPrepend",
     "outputPrepend",
     "outputPrepend",
     "outputPrepend",
     "outputPrepend",
     "outputPrepend",
     "outputPrepend",
     "outputPrepend",
     "outputPrepend",
     "outputPrepend",
     "outputPrepend",
     "outputPrepend",
     "outputPrepend",
     "outputPrepend",
     "outputPrepend",
     "outputPrepend",
     "outputPrepend",
     "outputPrepend",
     "outputPrepend",
     "outputPrepend",
     "outputPrepend",
     "outputPrepend",
     "outputPrepend",
     "outputPrepend",
     "outputPrepend",
     "outputPrepend",
     "outputPrepend",
     "outputPrepend",
     "outputPrepend"
    ]
   },
   "outputs": [
    {
     "output_type": "stream",
     "name": "stdout",
     "text": "-26-2020\")\n2020-05-10 16:36:54,890 INFO sqlalchemy.engine.base.Engine ()\n2020-05-10 16:36:54,891 INFO sqlalchemy.engine.base.Engine PRAGMA temp.table_info(\"02-26-2020\")\n2020-05-10 16:36:54,891 INFO sqlalchemy.engine.base.Engine ()\n2020-05-10 16:36:54,892 INFO sqlalchemy.engine.base.Engine \nCREATE TABLE \"02-26-2020\" (\n\t\"Province/State\" VARCHAR, \n\t\"Country/Region\" VARCHAR, \n\t\"Confirmed\" BIGINT, \n\t\"Deaths\" BIGINT, \n\t\"Date\" DATE, \n\t\"Latitude\" FLOAT, \n\t\"Longitude\" FLOAT\n)\n\n\n2020-05-10 16:36:54,893 INFO sqlalchemy.engine.base.Engine ()\n2020-05-10 16:36:54,896 INFO sqlalchemy.engine.base.Engine COMMIT\n2020-05-10 16:36:54,897 INFO sqlalchemy.engine.base.Engine BEGIN (implicit)\n2020-05-10 16:36:54,898 INFO sqlalchemy.engine.base.Engine INSERT INTO \"02-26-2020\" (\"Province/State\", \"Country/Region\", \"Confirmed\", \"Deaths\", \"Date\", \"Latitude\", \"Longitude\") VALUES (?, ?, ?, ?, ?, ?, ?)\n2020-05-10 16:36:54,898 INFO sqlalchemy.engine.base.Engine (('Hubei', 'Mainland China', 65187, 2615, '2020-02-26', None, None), ('Guangdong', 'Mainland China', 1347, 7, '2020-02-26', None, None), ('Henan', 'Mainland China', 1271, 19, '2020-02-26', None, None), (None, 'South Korea', 1261, 12, '2020-02-26', None, None), ('Zhejiang', 'Mainland China', 1205, 1, '2020-02-26', None, None), ('Hunan', 'Mainland China', 1016, 4, '2020-02-26', None, None), ('Anhui', 'Mainland China', 989, 6, '2020-02-26', None, None), ('Jiangxi', 'Mainland China', 934, 1, '2020-02-26', None, None)  ... displaying 10 of 101 total bound parameter sets ...  ('Omaha, NE (From Diamond Princess)', 'US', 0, 0, '2020-02-26', None, None), ('Travis, CA (From Diamond Princess)', 'US', 0, 0, '2020-02-26', None, None))\n2020-05-10 16:36:54,900 INFO sqlalchemy.engine.base.Engine COMMIT\n2020-05-10 16:36:54,903 INFO sqlalchemy.engine.base.Engine SELECT name FROM sqlite_master WHERE type='table' ORDER BY name\n2020-05-10 16:36:54,904 INFO sqlalchemy.engine.base.Engine ()\n2020-05-10 16:36:54,906 INFO sqlalchemy.engine.base.Engine PRAGMA main.table_info(\"03-04-2020\")\n2020-05-10 16:36:54,907 INFO sqlalchemy.engine.base.Engine ()\n2020-05-10 16:36:54,908 INFO sqlalchemy.engine.base.Engine PRAGMA temp.table_info(\"03-04-2020\")\n2020-05-10 16:36:54,908 INFO sqlalchemy.engine.base.Engine ()\n2020-05-10 16:36:54,909 INFO sqlalchemy.engine.base.Engine \nCREATE TABLE \"03-04-2020\" (\n\t\"Province/State\" VARCHAR, \n\t\"Country/Region\" VARCHAR, \n\t\"Confirmed\" BIGINT, \n\t\"Deaths\" BIGINT, \n\t\"Date\" DATE, \n\t\"Latitude\" FLOAT, \n\t\"Longitude\" FLOAT\n)\n\n\n2020-05-10 16:36:54,910 INFO sqlalchemy.engine.base.Engine ()\n2020-05-10 16:36:54,913 INFO sqlalchemy.engine.base.Engine COMMIT\n2020-05-10 16:36:54,914 INFO sqlalchemy.engine.base.Engine BEGIN (implicit)\n2020-05-10 16:36:54,916 INFO sqlalchemy.engine.base.Engine INSERT INTO \"03-04-2020\" (\"Province/State\", \"Country/Region\", \"Confirmed\", \"Deaths\", \"Date\", \"Latitude\", \"Longitude\") VALUES (?, ?, ?, ?, ?, ?, ?)\n2020-05-10 16:36:54,917 INFO sqlalchemy.engine.base.Engine (('Hubei', 'Mainland China', 67332, 2871, '2020-03-04', 30.9756, 112.2707), (None, 'South Korea', 5621, 35, '2020-03-04', 36.0, 128.0), (None, 'Italy', 3089, 107, '2020-03-04', 43.0, 12.0), (None, 'Iran', 2922, 92, '2020-03-04', 32.0, 53.0), ('Guangdong', 'Mainland China', 1350, 7, '2020-03-04', 23.3417, 113.4244), ('Henan', 'Mainland China', 1272, 22, '2020-03-04', 33.882, 113.61399999999999), ('Zhejiang', 'Mainland China', 1213, 1, '2020-03-04', 29.1832, 120.0934), ('Hunan', 'Mainland China', 1018, 4, '2020-03-04', 27.6104, 111.7088)  ... displaying 10 of 160 total bound parameter sets ...  ('Omaha, NE (From Diamond Princess)', 'US', 0, 0, '2020-03-04', 41.2545, -95.9758), ('Travis, CA (From Diamond Princess)', 'US', 0, 0, '2020-03-04', 38.2721, -121.9399))\n2020-05-10 16:36:54,919 INFO sqlalchemy.engine.base.Engine COMMIT\n2020-05-10 16:36:54,922 INFO sqlalchemy.engine.base.Engine SELECT name FROM sqlite_master WHERE type='table' ORDER BY name\n2020-05-10 16:36:54,922 INFO sqlalchemy.engine.base.Engine ()\n2020-05-10 16:36:54,924 INFO sqlalchemy.engine.base.Engine PRAGMA main.table_info(\"03-11-2020\")\n2020-05-10 16:36:54,924 INFO sqlalchemy.engine.base.Engine ()\n2020-05-10 16:36:54,925 INFO sqlalchemy.engine.base.Engine PRAGMA temp.table_info(\"03-11-2020\")\n2020-05-10 16:36:54,925 INFO sqlalchemy.engine.base.Engine ()\n2020-05-10 16:36:54,926 INFO sqlalchemy.engine.base.Engine \nCREATE TABLE \"03-11-2020\" (\n\t\"Province/State\" VARCHAR, \n\t\"Country/Region\" VARCHAR, \n\t\"Confirmed\" BIGINT, \n\t\"Deaths\" BIGINT, \n\t\"Date\" DATE, \n\t\"Latitude\" FLOAT, \n\t\"Longitude\" FLOAT\n)\n\n\n2020-05-10 16:36:54,926 INFO sqlalchemy.engine.base.Engine ()\n2020-05-10 16:36:54,930 INFO sqlalchemy.engine.base.Engine COMMIT\n2020-05-10 16:36:54,931 INFO sqlalchemy.engine.base.Engine BEGIN (implicit)\n2020-05-10 16:36:54,933 INFO sqlalchemy.engine.base.Engine INSERT INTO \"03-11-2020\" (\"Province/State\", \"Country/Region\", \"Confirmed\", \"Deaths\", \"Date\", \"Latitude\", \"Longitude\") VALUES (?, ?, ?, ?, ?, ?, ?)\n2020-05-10 16:36:54,934 INFO sqlalchemy.engine.base.Engine (('Hubei', 'China', 67773, 3046, '2020-03-11', 30.9756, 112.2707), (None, 'Italy', 12462, 827, '2020-03-11', 43.0, 12.0), (None, 'Iran', 9000, 354, '2020-03-11', 32.0, 53.0), (None, 'Korea, South', 7755, 60, '2020-03-11', 36.0, 128.0), ('France', 'France', 2281, 48, '2020-03-11', 46.2276, 2.2137), (None, 'Spain', 2277, 54, '2020-03-11', 40.0, -4.0), (None, 'Germany', 1908, 3, '2020-03-11', 51.0, 9.0), ('Guangdong', 'China', 1356, 8, '2020-03-11', 23.3417, 113.4244)  ... displaying 10 of 216 total bound parameter sets ...  ('Wyoming', 'US', 0, 0, '2020-03-11', 42.756, -107.3025), (None, 'occupied Palestinian territory', 0, 0, '2020-03-11', 31.9522, 35.2332))\n2020-05-10 16:36:54,937 INFO sqlalchemy.engine.base.Engine COMMIT\n2020-05-10 16:36:54,940 INFO sqlalchemy.engine.base.Engine SELECT name FROM sqlite_master WHERE type='table' ORDER BY name\n2020-05-10 16:36:54,941 INFO sqlalchemy.engine.base.Engine ()\n2020-05-10 16:36:54,942 INFO sqlalchemy.engine.base.Engine PRAGMA main.table_info(\"03-18-2020\")\n2020-05-10 16:36:54,943 INFO sqlalchemy.engine.base.Engine ()\n2020-05-10 16:36:54,944 INFO sqlalchemy.engine.base.Engine PRAGMA temp.table_info(\"03-18-2020\")\n2020-05-10 16:36:54,944 INFO sqlalchemy.engine.base.Engine ()\n2020-05-10 16:36:54,945 INFO sqlalchemy.engine.base.Engine \nCREATE TABLE \"03-18-2020\" (\n\t\"Province/State\" VARCHAR, \n\t\"Country/Region\" VARCHAR, \n\t\"Confirmed\" BIGINT, \n\t\"Deaths\" BIGINT, \n\t\"Date\" DATE, \n\t\"Latitude\" FLOAT, \n\t\"Longitude\" FLOAT\n)\n\n\n2020-05-10 16:36:54,946 INFO sqlalchemy.engine.base.Engine ()\n2020-05-10 16:36:54,950 INFO sqlalchemy.engine.base.Engine COMMIT\n2020-05-10 16:36:54,951 INFO sqlalchemy.engine.base.Engine BEGIN (implicit)\n2020-05-10 16:36:54,954 INFO sqlalchemy.engine.base.Engine INSERT INTO \"03-18-2020\" (\"Province/State\", \"Country/Region\", \"Confirmed\", \"Deaths\", \"Date\", \"Latitude\", \"Longitude\") VALUES (?, ?, ?, ?, ?, ?, ?)\n2020-05-10 16:36:54,955 INFO sqlalchemy.engine.base.Engine (('Hubei', 'China', 67800, 3122, '2020-03-18', 30.9756, 112.2707), (None, 'Italy', 35713, 2978, '2020-03-18', 41.8719, 12.5674), (None, 'Iran', 17361, 1135, '2020-03-18', 32.4279, 53.688), (None, 'Spain', 13910, 623, '2020-03-18', 40.4637, -3.7492), (None, 'Germany', 12327, 28, '2020-03-18', 51.1657, 10.4515), ('France', 'France', 9043, 148, '2020-03-18', 46.2276, 2.2137), (None, 'Korea, South', 8413, 84, '2020-03-18', 35.9078, 127.7669), (None, 'Switzerland', 3028, 28, '2020-03-18', 46.8182, 8.2275)  ... displaying 10 of 284 total bound parameter sets ...  (None, 'Republic of the Congo', 0, 0, '2020-03-18', -1.44, 15.556), (None, 'The Gambia', 0, 0, '2020-03-18', 13.4667, -16.6))\n2020-05-10 16:36:54,958 INFO sqlalchemy.engine.base.Engine COMMIT\n2020-05-10 16:36:54,961 INFO sqlalchemy.engine.base.Engine SELECT name FROM sqlite_master WHERE type='table' ORDER BY name\n2020-05-10 16:36:54,962 INFO sqlalchemy.engine.base.Engine ()\n2020-05-10 16:36:54,963 INFO sqlalchemy.engine.base.Engine PRAGMA main.table_info(\"03-25-2020\")\n2020-05-10 16:36:54,964 INFO sqlalchemy.engine.base.Engine ()\n2020-05-10 16:36:54,965 INFO sqlalchemy.engine.base.Engine PRAGMA temp.table_info(\"03-25-2020\")\n2020-05-10 16:36:54,965 INFO sqlalchemy.engine.base.Engine ()\n2020-05-10 16:36:54,966 INFO sqlalchemy.engine.base.Engine \nCREATE TABLE \"03-25-2020\" (\n\t\"Province/State\" VARCHAR, \n\t\"Country/Region\" VARCHAR, \n\t\"Confirmed\" BIGINT, \n\t\"Deaths\" BIGINT, \n\t\"Date\" DATE, \n\t\"Latitude\" FLOAT, \n\t\"Longitude\" FLOAT\n)\n\n\n2020-05-10 16:36:54,967 INFO sqlalchemy.engine.base.Engine ()\n2020-05-10 16:36:54,982 INFO sqlalchemy.engine.base.Engine COMMIT\n2020-05-10 16:36:54,985 INFO sqlalchemy.engine.base.Engine BEGIN (implicit)\n2020-05-10 16:36:55,011 INFO sqlalchemy.engine.base.Engine INSERT INTO \"03-25-2020\" (\"Province/State\", \"Country/Region\", \"Confirmed\", \"Deaths\", \"Date\", \"Latitude\", \"Longitude\") VALUES (?, ?, ?, ?, ?, ?, ?)\n2020-05-10 16:36:55,012 INFO sqlalchemy.engine.base.Engine (('South Carolina', 'US', 3, 0, '2020-03-25', 34.22333378, -82.46170658), ('Louisiana', 'US', 2, 0, '2020-03-25', 30.295064899999996, -92.41419698), ('Virginia', 'US', 2, 0, '2020-03-25', 37.76707161, -75.63234615), ('Idaho', 'US', 24, 0, '2020-03-25', 43.4526575, -116.24155159999998), ('Iowa', 'US', 1, 0, '2020-03-25', 41.33075609, -94.47105874), ('Kentucky', 'US', 0, 0, '2020-03-25', 37.10459774, -85.28129668), ('Missouri', 'US', 1, 0, '2020-03-25', 40.19058551, -92.60078167), ('Oklahoma', 'US', 2, 0, '2020-03-25', 35.88494195, -94.65859267)  ... displaying 10 of 3420 total bound parameter sets ...  (None, 'Zambia', 12, 0, '2020-03-25', -13.133897, 27.849332), (None, 'Zimbabwe', 3, 1, '2020-03-25', -19.015438, 29.154857))\n2020-05-10 16:36:55,024 INFO sqlalchemy.engine.base.Engine COMMIT\n2020-05-10 16:36:55,029 INFO sqlalchemy.engine.base.Engine SELECT name FROM sqlite_master WHERE type='table' ORDER BY name\n2020-05-10 16:36:55,030 INFO sqlalchemy.engine.base.Engine ()\n2020-05-10 16:36:55,031 INFO sqlalchemy.engine.base.Engine PRAGMA main.table_info(\"04-01-2020\")\n2020-05-10 16:36:55,032 INFO sqlalchemy.engine.base.Engine ()\n2020-05-10 16:36:55,032 INFO sqlalchemy.engine.base.Engine PRAGMA temp.table_info(\"04-01-2020\")\n2020-05-10 16:36:55,032 INFO sqlalchemy.engine.base.Engine ()\n2020-05-10 16:36:55,034 INFO sqlalchemy.engine.base.Engine \nCREATE TABLE \"04-01-2020\" (\n\t\"Province/State\" VARCHAR, \n\t\"Country/Region\" VARCHAR, \n\t\"Confirmed\" BIGINT, \n\t\"Deaths\" BIGINT, \n\t\"Date\" DATE, \n\t\"Latitude\" FLOAT, \n\t\"Longitude\" FLOAT\n)\n\n\n2020-05-10 16:36:55,034 INFO sqlalchemy.engine.base.Engine ()\n2020-05-10 16:36:55,037 INFO sqlalchemy.engine.base.Engine COMMIT\n2020-05-10 16:36:55,039 INFO sqlalchemy.engine.base.Engine BEGIN (implicit)\n2020-05-10 16:36:55,126 INFO sqlalchemy.engine.base.Engine INSERT INTO \"04-01-2020\" (\"Province/State\", \"Country/Region\", \"Confirmed\", \"Deaths\", \"Date\", \"Latitude\", \"Longitude\") VALUES (?, ?, ?, ?, ?, ?, ?)\n2020-05-10 16:36:55,127 INFO sqlalchemy.engine.base.Engine (('South Carolina', 'US', 4, 0, '2020-04-01', 34.22333378, -82.46170658), ('Louisiana', 'US', 47, 1, '2020-04-01', 30.295064899999996, -92.41419698), ('Virginia', 'US', 7, 0, '2020-04-01', 37.76707161, -75.63234615), ('Idaho', 'US', 195, 3, '2020-04-01', 43.4526575, -116.24155159999998), ('Iowa', 'US', 1, 0, '2020-04-01', 41.33075609, -94.47105874), ('Missouri', 'US', 3, 0, '2020-04-01', 40.19058551, -92.60078167), ('Oklahoma', 'US', 8, 0, '2020-04-01', 35.88494195, -94.65859267), ('Colorado', 'US', 181, 2, '2020-04-01', 39.87432092, -104.3362578)  ... displaying 10 of 2483 total bound parameter sets ...  (None, 'Zambia', 36, 0, '2020-04-01', -13.133897, 27.849332), (None, 'Zimbabwe', 8, 1, '2020-04-01', -19.015438, 29.154857))\n2020-05-10 16:36:55,136 INFO sqlalchemy.engine.base.Engine COMMIT\n2020-05-10 16:36:55,140 INFO sqlalchemy.engine.base.Engine SELECT name FROM sqlite_master WHERE type='table' ORDER BY name\n2020-05-10 16:36:55,141 INFO sqlalchemy.engine.base.Engine ()\n2020-05-10 16:36:55,142 INFO sqlalchemy.engine.base.Engine PRAGMA main.table_info(\"04-08-2020\")\n2020-05-10 16:36:55,143 INFO sqlalchemy.engine.base.Engine ()\n2020-05-10 16:36:55,143 INFO sqlalchemy.engine.base.Engine PRAGMA temp.table_info(\"04-08-2020\")\n2020-05-10 16:36:55,144 INFO sqlalchemy.engine.base.Engine ()\n2020-05-10 16:36:55,145 INFO sqlalchemy.engine.base.Engine \nCREATE TABLE \"04-08-2020\" (\n\t\"Province/State\" VARCHAR, \n\t\"Country/Region\" VARCHAR, \n\t\"Confirmed\" BIGINT, \n\t\"Deaths\" BIGINT, \n\t\"Date\" DATE, \n\t\"Latitude\" FLOAT, \n\t\"Longitude\" FLOAT\n)\n\n\n2020-05-10 16:36:55,145 INFO sqlalchemy.engine.base.Engine ()\n2020-05-10 16:36:55,148 INFO sqlalchemy.engine.base.Engine COMMIT\n2020-05-10 16:36:55,150 INFO sqlalchemy.engine.base.Engine BEGIN (implicit)\n2020-05-10 16:36:55,169 INFO sqlalchemy.engine.base.Engine INSERT INTO \"04-08-2020\" (\"Province/State\", \"Country/Region\", \"Confirmed\", \"Deaths\", \"Date\", \"Latitude\", \"Longitude\") VALUES (?, ?, ?, ?, ?, ?, ?)\n2020-05-10 16:36:55,170 INFO sqlalchemy.engine.base.Engine (('South Carolina', 'US', 5, 0, '2020-04-08', 34.22333378, -82.46170658), ('Louisiana', 'US', 86, 2, '2020-04-08', 30.295064899999996, -92.41419698), ('Virginia', 'US', 11, 0, '2020-04-08', 37.76707161, -75.63234615), ('Idaho', 'US', 438, 3, '2020-04-08', 43.4526575, -116.24155159999998), ('Iowa', 'US', 1, 0, '2020-04-08', 41.33075609, -94.47105874), ('Kentucky', 'US', 3, 0, '2020-04-08', 37.10459774, -85.28129668), ('Missouri', 'US', 11, 0, '2020-04-08', 40.19058551, -92.60078167), ('Oklahoma', 'US', 25, 2, '2020-04-08', 35.88494195, -94.65859267)  ... displaying 10 of 2882 total bound parameter sets ...  (None, 'Zambia', 39, 1, '2020-04-08', -13.133897, 27.849332), (None, 'Zimbabwe', 11, 3, '2020-04-08', -19.015438, 29.154857))\n2020-05-10 16:36:55,180 INFO sqlalchemy.engine.base.Engine COMMIT\n2020-05-10 16:36:55,184 INFO sqlalchemy.engine.base.Engine SELECT name FROM sqlite_master WHERE type='table' ORDER BY name\n2020-05-10 16:36:55,185 INFO sqlalchemy.engine.base.Engine ()\n2020-05-10 16:36:55,187 INFO sqlalchemy.engine.base.Engine PRAGMA main.table_info(\"04-15-2020\")\n2020-05-10 16:36:55,187 INFO sqlalchemy.engine.base.Engine ()\n2020-05-10 16:36:55,188 INFO sqlalchemy.engine.base.Engine PRAGMA temp.table_info(\"04-15-2020\")\n2020-05-10 16:36:55,188 INFO sqlalchemy.engine.base.Engine ()\n2020-05-10 16:36:55,189 INFO sqlalchemy.engine.base.Engine \nCREATE TABLE \"04-15-2020\" (\n\t\"Province/State\" VARCHAR, \n\t\"Country/Region\" VARCHAR, \n\t\"Confirmed\" BIGINT, \n\t\"Deaths\" BIGINT, \n\t\"Date\" DATE, \n\t\"Latitude\" FLOAT, \n\t\"Longitude\" FLOAT\n)\n\n\n2020-05-10 16:36:55,189 INFO sqlalchemy.engine.base.Engine ()\n2020-05-10 16:36:55,193 INFO sqlalchemy.engine.base.Engine COMMIT\n2020-05-10 16:36:55,194 INFO sqlalchemy.engine.base.Engine BEGIN (implicit)\n2020-05-10 16:36:55,217 INFO sqlalchemy.engine.base.Engine INSERT INTO \"04-15-2020\" (\"Province/State\", \"Country/Region\", \"Confirmed\", \"Deaths\", \"Date\", \"Latitude\", \"Longitude\") VALUES (?, ?, ?, ?, ?, ?, ?)\n2020-05-10 16:36:55,218 INFO sqlalchemy.engine.base.Engine (('South Carolina', 'US', 10, 0, '2020-04-15', 34.22333378, -82.46170658), ('Louisiana', 'US', 105, 5, '2020-04-15', 30.295064899999996, -92.41419698), ('Virginia', 'US', 15, 0, '2020-04-15', 37.76707161, -75.63234615), ('Idaho', 'US', 538, 9, '2020-04-15', 43.4526575, -116.24155159999998), ('Iowa', 'US', 1, 0, '2020-04-15', 41.33075609, -94.47105874), ('Kentucky', 'US', 43, 1, '2020-04-15', 37.10459774, -85.28129668), ('Missouri', 'US', 12, 0, '2020-04-15', 40.19058551, -92.60078167), ('Oklahoma', 'US', 29, 3, '2020-04-15', 35.88494195, -94.65859267)  ... displaying 10 of 3026 total bound parameter sets ...  (None, 'Zambia', 48, 2, '2020-04-15', -13.133897, 27.849332), (None, 'Zimbabwe', 23, 3, '2020-04-15', -19.015438, 29.154857))\n2020-05-10 16:36:55,229 INFO sqlalchemy.engine.base.Engine COMMIT\n2020-05-10 16:36:55,233 INFO sqlalchemy.engine.base.Engine SELECT name FROM sqlite_master WHERE type='table' ORDER BY name\n2020-05-10 16:36:55,234 INFO sqlalchemy.engine.base.Engine ()\n2020-05-10 16:36:55,236 INFO sqlalchemy.engine.base.Engine PRAGMA main.table_info(\"04-22-2020\")\n2020-05-10 16:36:55,237 INFO sqlalchemy.engine.base.Engine ()\n2020-05-10 16:36:55,237 INFO sqlalchemy.engine.base.Engine PRAGMA temp.table_info(\"04-22-2020\")\n2020-05-10 16:36:55,237 INFO sqlalchemy.engine.base.Engine ()\n2020-05-10 16:36:55,238 INFO sqlalchemy.engine.base.Engine \nCREATE TABLE \"04-22-2020\" (\n\t\"Province/State\" VARCHAR, \n\t\"Country/Region\" VARCHAR, \n\t\"Confirmed\" BIGINT, \n\t\"Deaths\" BIGINT, \n\t\"Date\" DATE, \n\t\"Latitude\" FLOAT, \n\t\"Longitude\" FLOAT\n)\n\n\n2020-05-10 16:36:55,239 INFO sqlalchemy.engine.base.Engine ()\n2020-05-10 16:36:55,242 INFO sqlalchemy.engine.base.Engine COMMIT\n2020-05-10 16:36:55,243 INFO sqlalchemy.engine.base.Engine BEGIN (implicit)\n2020-05-10 16:36:55,265 INFO sqlalchemy.engine.base.Engine INSERT INTO \"04-22-2020\" (\"Province/State\", \"Country/Region\", \"Confirmed\", \"Deaths\", \"Date\", \"Latitude\", \"Longitude\") VALUES (?, ?, ?, ?, ?, ?, ?)\n2020-05-10 16:36:55,266 INFO sqlalchemy.engine.base.Engine (('South Carolina', 'US', 22, 0, '2020-04-22', 34.22333378, -82.46170658), ('Louisiana', 'US', 117, 7, '2020-04-22', 30.2950649, -92.41419698), ('Virginia', 'US', 59, 1, '2020-04-22', 37.76707161, -75.63234615), ('Idaho', 'US', 622, 12, '2020-04-22', 43.4526575, -116.24155159999998), ('Iowa', 'US', 1, 0, '2020-04-22', 41.33075609, -94.47105874), ('Kentucky', 'US', 60, 4, '2020-04-22', 37.10459774, -85.28129668), ('Missouri', 'US', 12, 0, '2020-04-22', 40.19058551, -92.60078167), ('Oklahoma', 'US', 49, 3, '2020-04-22', 35.88494195, -94.65859267)  ... displaying 10 of 3099 total bound parameter sets ...  (None, 'Zambia', 74, 3, '2020-04-22', -13.133897, 27.849332), (None, 'Zimbabwe', 28, 4, '2020-04-22', -19.015438, 29.154857))\n2020-05-10 16:36:55,277 INFO sqlalchemy.engine.base.Engine COMMIT\n2020-05-10 16:36:55,282 INFO sqlalchemy.engine.base.Engine SELECT name FROM sqlite_master WHERE type='table' ORDER BY name\n2020-05-10 16:36:55,283 INFO sqlalchemy.engine.base.Engine ()\n2020-05-10 16:36:55,285 INFO sqlalchemy.engine.base.Engine PRAGMA main.table_info(\"04-29-2020\")\n2020-05-10 16:36:55,285 INFO sqlalchemy.engine.base.Engine ()\n2020-05-10 16:36:55,286 INFO sqlalchemy.engine.base.Engine PRAGMA temp.table_info(\"04-29-2020\")\n2020-05-10 16:36:55,286 INFO sqlalchemy.engine.base.Engine ()\n2020-05-10 16:36:55,288 INFO sqlalchemy.engine.base.Engine \nCREATE TABLE \"04-29-2020\" (\n\t\"Province/State\" VARCHAR, \n\t\"Country/Region\" VARCHAR, \n\t\"Confirmed\" BIGINT, \n\t\"Deaths\" BIGINT, \n\t\"Date\" DATE, \n\t\"Latitude\" FLOAT, \n\t\"Longitude\" FLOAT\n)\n\n\n2020-05-10 16:36:55,288 INFO sqlalchemy.engine.base.Engine ()\n2020-05-10 16:36:55,292 INFO sqlalchemy.engine.base.Engine COMMIT\n2020-05-10 16:36:55,294 INFO sqlalchemy.engine.base.Engine BEGIN (implicit)\n2020-05-10 16:36:55,315 INFO sqlalchemy.engine.base.Engine INSERT INTO \"04-29-2020\" (\"Province/State\", \"Country/Region\", \"Confirmed\", \"Deaths\", \"Date\", \"Latitude\", \"Longitude\") VALUES (?, ?, ?, ?, ?, ?, ?)\n2020-05-10 16:36:55,316 INFO sqlalchemy.engine.base.Engine (('South Carolina', 'US', 29, 0, '2020-04-29', 34.22333378, -82.46170658), ('Louisiana', 'US', 130, 9, '2020-04-29', 30.295064899999996, -92.41419698), ('Virginia', 'US', 229, 4, '2020-04-29', 37.76707161, -75.63234615), ('Idaho', 'US', 662, 16, '2020-04-29', 43.4526575, -116.24155159999998), ('Iowa', 'US', 1, 0, '2020-04-29', 41.33075609, -94.47105874), ('Kentucky', 'US', 79, 10, '2020-04-29', 37.10459774, -85.28129668), ('Missouri', 'US', 12, 0, '2020-04-29', 40.19058551, -92.60078167), ('Oklahoma', 'US', 64, 3, '2020-04-29', 35.88494195, -94.65859267)  ... displaying 10 of 3168 total bound parameter sets ...  (None, 'Zambia', 97, 3, '2020-04-29', -13.133897, 27.849332), (None, 'Zimbabwe', 32, 4, '2020-04-29', -19.015438, 29.154857))\n2020-05-10 16:36:55,327 INFO sqlalchemy.engine.base.Engine COMMIT\n2020-05-10 16:36:55,332 INFO sqlalchemy.engine.base.Engine SELECT name FROM sqlite_master WHERE type='table' ORDER BY name\n2020-05-10 16:36:55,333 INFO sqlalchemy.engine.base.Engine ()\n"
    }
   ],
   "source": [
    "# load data frames into sqlite\n",
    "i=0\n",
    "for df in weeklyData:\n",
    "    df.to_sql(datelabels[i], conn,index = False, dtype =table_type,if_exists='replace')\n",
    "    i +=1\n",
    "# US_df.to_sql('US_data', conn,index = False, dtype =table_type_country,if_exists='replace')\n",
    "# It_df.to_sql('Italy_data', conn,index = False, dtype =table_type_country,if_exists='replace')\n",
    "# CN_df.to_sql('China_data', conn,index = False, dtype =table_type_country,if_exists='replace')\n",
    "# KR_df.to_sql('Korea_data', conn,index = False, dtype =table_type_country,if_exists='replace')\n",
    "# tot_df.to_sql('Total_table', conn,index = False, dtype =table_type_tot,if_exists='replace')\n",
    "# event_df.to_sql('Event_table', conn,index = False, dtype =table_type_eve,if_exists='replace')\n",
    "\n"
   ]
  },
  {
   "cell_type": "code",
   "execution_count": 42,
   "metadata": {},
   "outputs": [
    {
     "output_type": "stream",
     "name": "stdout",
     "text": "2020-05-10 16:38:01,303 INFO sqlalchemy.engine.base.Engine select * from \"02-26-2020\"\n2020-05-10 16:38:01,303 INFO sqlalchemy.engine.base.Engine ()\n"
    },
    {
     "output_type": "execute_result",
     "data": {
      "text/plain": "[('Hubei', 'Mainland China', 65187, 2615, '2020-02-26', None, None),\n ('Guangdong', 'Mainland China', 1347, 7, '2020-02-26', None, None),\n ('Henan', 'Mainland China', 1271, 19, '2020-02-26', None, None),\n (None, 'South Korea', 1261, 12, '2020-02-26', None, None),\n ('Zhejiang', 'Mainland China', 1205, 1, '2020-02-26', None, None),\n ('Hunan', 'Mainland China', 1016, 4, '2020-02-26', None, None),\n ('Anhui', 'Mainland China', 989, 6, '2020-02-26', None, None),\n ('Jiangxi', 'Mainland China', 934, 1, '2020-02-26', None, None),\n ('Shandong', 'Mainland China', 756, 6, '2020-02-26', None, None),\n ('Diamond Princess cruise ship', 'Others', 705, 4, '2020-02-26', None, None),\n ('Jiangsu', 'Mainland China', 631, 0, '2020-02-26', None, None),\n ('Chongqing', 'Mainland China', 576, 6, '2020-02-26', None, None),\n ('Sichuan', 'Mainland China', 531, 3, '2020-02-26', None, None),\n ('Heilongjiang', 'Mainland China', 480, 12, '2020-02-26', None, None),\n (None, 'Italy', 453, 12, '2020-02-26', None, None),\n ('Beijing', 'Mainland China', 400, 4, '2020-02-26', None, None),\n ('Shanghai', 'Mainland China', 337, 3, '2020-02-26', None, None),\n ('Hebei', 'Mainland China', 312, 6, '2020-02-26', None, None),\n ('Fujian', 'Mainland China', 294, 1, '2020-02-26', None, None),\n ('Guangxi', 'Mainland China', 252, 2, '2020-02-26', None, None),\n ('Shaanxi', 'Mainland China', 245, 1, '2020-02-26', None, None),\n (None, 'Japan', 189, 2, '2020-02-26', None, None),\n ('Yunnan', 'Mainland China', 174, 2, '2020-02-26', None, None),\n ('Hainan', 'Mainland China', 168, 5, '2020-02-26', None, None),\n ('Guizhou', 'Mainland China', 146, 2, '2020-02-26', None, None),\n (None, 'Iran', 139, 19, '2020-02-26', None, None),\n ('Tianjin', 'Mainland China', 135, 3, '2020-02-26', None, None),\n ('Shanxi', 'Mainland China', 133, 0, '2020-02-26', None, None),\n ('Liaoning', 'Mainland China', 121, 1, '2020-02-26', None, None),\n ('Jilin', 'Mainland China', 93, 1, '2020-02-26', None, None),\n (None, 'Singapore', 93, 0, '2020-02-26', None, None),\n ('Hong Kong', 'Hong Kong', 91, 2, '2020-02-26', None, None),\n ('Gansu', 'Mainland China', 91, 2, '2020-02-26', None, None),\n ('Xinjiang', 'Mainland China', 76, 2, '2020-02-26', None, None),\n ('Inner Mongolia', 'Mainland China', 75, 0, '2020-02-26', None, None),\n ('Ningxia', 'Mainland China', 71, 0, '2020-02-26', None, None),\n ('Unassigned Location (From Diamond Princess)', 'US', 42, 0, '2020-02-26', None, None),\n (None, 'Thailand', 40, 0, '2020-02-26', None, None),\n (None, 'Bahrain', 33, 0, '2020-02-26', None, None),\n ('Taiwan', 'Taiwan', 32, 1, '2020-02-26', None, None),\n (None, 'Germany', 27, 0, '2020-02-26', None, None),\n (None, 'Kuwait', 26, 0, '2020-02-26', None, None),\n (None, 'Malaysia', 22, 0, '2020-02-26', None, None),\n (None, 'France', 18, 2, '2020-02-26', None, None),\n ('Qinghai', 'Mainland China', 18, 0, '2020-02-26', None, None),\n (None, 'Vietnam', 16, 0, '2020-02-26', None, None),\n (None, 'Spain', 13, 0, '2020-02-26', None, None),\n (None, 'UK', 13, 0, '2020-02-26', None, None),\n (None, 'United Arab Emirates', 13, 0, '2020-02-26', None, None),\n ('Macau', 'Macau', 10, 0, '2020-02-26', None, None),\n ('From Diamond Princess', 'Australia', 7, 0, '2020-02-26', None, None),\n ('British Columbia', 'Canada', 7, 0, '2020-02-26', None, None),\n ('Queensland', 'Australia', 5, 0, '2020-02-26', None, None),\n (None, 'Iraq', 5, 0, '2020-02-26', None, None),\n ('New South Wales', 'Australia', 4, 0, '2020-02-26', None, None),\n ('Victoria', 'Australia', 4, 0, '2020-02-26', None, None),\n (None, 'Oman', 4, 0, '2020-02-26', None, None),\n ('Toronto, ON', 'Canada', 3, 0, '2020-02-26', None, None),\n (None, 'Croatia', 3, 0, '2020-02-26', None, None),\n (None, 'India', 3, 0, '2020-02-26', None, None),\n (None, 'Philippines', 3, 1, '2020-02-26', None, None),\n ('South Australia', 'Australia', 2, 0, '2020-02-26', None, None),\n (None, 'Austria', 2, 0, '2020-02-26', None, None),\n (None, 'Finland', 2, 0, '2020-02-26', None, None),\n (None, 'Israel', 2, 0, '2020-02-26', None, None),\n (None, 'Lebanon', 2, 0, '2020-02-26', None, None),\n (None, 'Pakistan', 2, 0, '2020-02-26', None, None),\n (None, 'Russia', 2, 0, '2020-02-26', None, None),\n (None, 'Sweden', 2, 0, '2020-02-26', None, None),\n ('Chicago, IL', 'US', 2, 0, '2020-02-26', None, None),\n ('San Benito, CA', 'US', 2, 0, '2020-02-26', None, None),\n ('San Diego County, CA', 'US', 2, 0, '2020-02-26', None, None),\n ('Santa Clara, CA', 'US', 2, 0, '2020-02-26', None, None),\n (None, 'Afghanistan', 1, 0, '2020-02-26', None, None),\n (None, 'Algeria', 1, 0, '2020-02-26', None, None),\n (None, 'Belgium', 1, 0, '2020-02-26', None, None),\n (None, 'Brazil', 1, 0, '2020-02-26', None, None),\n (None, 'Cambodia', 1, 0, '2020-02-26', None, None),\n ('London, ON', 'Canada', 1, 0, '2020-02-26', None, None),\n (None, 'Egypt', 1, 0, '2020-02-26', None, None),\n (None, 'Georgia', 1, 0, '2020-02-26', None, None),\n (None, 'Greece', 1, 0, '2020-02-26', None, None),\n ('Tibet', 'Mainland China', 1, 0, '2020-02-26', None, None),\n (None, 'Nepal', 1, 0, '2020-02-26', None, None),\n (None, 'North Macedonia', 1, 0, '2020-02-26', None, None),\n (None, 'Norway', 1, 0, '2020-02-26', None, None),\n (None, 'Romania', 1, 0, '2020-02-26', None, None),\n (None, 'Sri Lanka', 1, 0, '2020-02-26', None, None),\n (None, 'Switzerland', 1, 0, '2020-02-26', None, None),\n ('Boston, MA', 'US', 1, 0, '2020-02-26', None, None),\n ('Humboldt County, CA', 'US', 1, 0, '2020-02-26', None, None),\n ('Los Angeles, CA', 'US', 1, 0, '2020-02-26', None, None),\n ('Madison, WI', 'US', 1, 0, '2020-02-26', None, None),\n ('Orange, CA', 'US', 1, 0, '2020-02-26', None, None),\n ('Sacramento County, CA', 'US', 1, 0, '2020-02-26', None, None),\n ('San Antonio, TX', 'US', 1, 0, '2020-02-26', None, None),\n ('Seattle, WA', 'US', 1, 0, '2020-02-26', None, None),\n ('Tempe, AZ', 'US', 1, 0, '2020-02-26', None, None),\n ('Lackland, TX (From Diamond Princess)', 'US', 0, 0, '2020-02-26', None, None),\n ('Omaha, NE (From Diamond Princess)', 'US', 0, 0, '2020-02-26', None, None),\n ('Travis, CA (From Diamond Princess)', 'US', 0, 0, '2020-02-26', None, None)]"
     },
     "metadata": {},
     "execution_count": 42
    }
   ],
   "source": [
    "engine.execute('select * from \"02-26-2020\"').fetchall()"
   ]
  },
  {
   "cell_type": "code",
   "execution_count": 14,
   "metadata": {},
   "outputs": [
    {
     "output_type": "execute_result",
     "data": {
      "text/plain": "2020-03-26    1\n2020-02-25    1\n2020-02-17    1\n2020-03-20    1\n2020-03-11    1\n             ..\n2020-01-06    1\n2020-02-10    1\n2020-01-17    1\n2020-03-06    1\n2020-03-19    1\nName: Date, Length: 63, dtype: int64"
     },
     "metadata": {},
     "execution_count": 14
    }
   ],
   "source": [
    "CN_df[\"Date\"].value_counts()"
   ]
  },
  {
   "cell_type": "code",
   "execution_count": null,
   "metadata": {},
   "outputs": [],
   "source": []
  }
 ],
 "metadata": {
  "kernel_info": {
   "name": "python3"
  },
  "kernelspec": {
   "display_name": "Python 3",
   "language": "python",
   "name": "python3"
  },
  "language_info": {
   "codemirror_mode": {
    "name": "ipython",
    "version": 3
   },
   "file_extension": ".py",
   "mimetype": "text/x-python",
   "name": "python",
   "nbconvert_exporter": "python",
   "pygments_lexer": "ipython3",
   "version": "3.7.4-final"
  },
  "nteract": {
   "version": "0.12.3"
  },
  "varInspector": {
   "cols": {
    "lenName": 16,
    "lenType": 16,
    "lenVar": 40
   },
   "kernels_config": {
    "python": {
     "delete_cmd_postfix": "",
     "delete_cmd_prefix": "del ",
     "library": "var_list.py",
     "varRefreshCmd": "print(var_dic_list())"
    },
    "r": {
     "delete_cmd_postfix": ") ",
     "delete_cmd_prefix": "rm(",
     "library": "var_list.r",
     "varRefreshCmd": "cat(var_dic_list()) "
    }
   },
   "types_to_exclude": [
    "module",
    "function",
    "builtin_function_or_method",
    "instance",
    "_Feature"
   ],
   "window_display": false
  }
 },
 "nbformat": 4,
 "nbformat_minor": 2
}