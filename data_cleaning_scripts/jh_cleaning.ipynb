{
 "cells": [
  {
   "cell_type": "code",
   "execution_count": 1,
   "metadata": {},
   "outputs": [],
   "source": [
    "# Cleaning Raw Data from Johns Hopkins\n",
    "# By Chris Chiang\n",
    "import pandas as pd\n",
    "import datetime as dt\n",
    "import numpy as np"
   ]
  },
  {
   "cell_type": "code",
   "execution_count": 2,
   "metadata": {},
   "outputs": [],
   "source": [
    "data_loc = '../raw_data/COVID-19/csse_covid_19_data/csse_covid_19_daily_reports/'\n",
    "# Setting up dates\n",
    "start_date = dt.date(2020, 1, 22)\n",
    "last_date = dt.date.today() - dt.timedelta(days=1)  \n",
    "days = (last_date - start_date).days"
   ]
  },
  {
   "cell_type": "code",
   "execution_count": 3,
   "metadata": {
    "tags": [
     "outputPrepend",
     "outputPrepend",
     "outputPrepend",
     "outputPrepend",
     "outputPrepend",
     "outputPrepend",
     "outputPrepend",
     "outputPrepend",
     "outputPrepend",
     "outputPrepend",
     "outputPrepend",
     "outputPrepend",
     "outputPrepend",
     "outputPrepend",
     "outputPrepend",
     "outputPrepend",
     "outputPrepend",
     "outputPrepend",
     "outputPrepend",
     "outputPrepend",
     "outputPrepend",
     "outputPrepend",
     "outputPrepend",
     "outputPrepend",
     "outputPrepend",
     "outputPrepend",
     "outputPrepend",
     "outputPrepend",
     "outputPrepend",
     "outputPrepend",
     "outputPrepend",
     "outputPrepend",
     "outputPrepend",
     "outputPrepend",
     "outputPrepend",
     "outputPrepend",
     "outputPrepend",
     "outputPrepend",
     "outputPrepend",
     "outputPrepend",
     "outputPrepend",
     "outputPrepend",
     "outputPrepend",
     "outputPrepend",
     "outputPrepend",
     "outputPrepend",
     "outputPrepend",
     "outputPrepend",
     "outputPrepend",
     "outputPrepend",
     "outputPrepend",
     "outputPrepend",
     "outputPrepend",
     "outputPrepend",
     "outputPrepend",
     "outputPrepend",
     "outputPrepend",
     "outputPrepend",
     "outputPrepend"
    ]
   },
   "outputs": [
    {
     "output_type": "execute_result",
     "data": {
      "text/plain": "             Date  Country/Region  Confirmed    Deaths\n0      2020-01-22       Hong Kong        0.0       0.0\n1      2020-01-22           Japan        2.0       0.0\n2      2020-01-22           Macao        1.0       0.0\n3      2020-01-22           China      547.0      17.0\n4      2020-01-22     South Korea        1.0       0.0\n...           ...             ...        ...       ...\n12287  2020-05-07  Western Sahara        6.0       0.0\n12288  2020-05-07           Yemen       25.0       5.0\n12289  2020-05-07          Zambia      153.0       4.0\n12290  2020-05-07        Zimbabwe       34.0       4.0\n12291  2020-05-07           Total  3845718.0  269567.0\n\n[12292 rows x 4 columns]",
      "text/html": "<div>\n<style scoped>\n    .dataframe tbody tr th:only-of-type {\n        vertical-align: middle;\n    }\n\n    .dataframe tbody tr th {\n        vertical-align: top;\n    }\n\n    .dataframe thead th {\n        text-align: right;\n    }\n</style>\n<table border=\"1\" class=\"dataframe\">\n  <thead>\n    <tr style=\"text-align: right;\">\n      <th></th>\n      <th>Date</th>\n      <th>Country/Region</th>\n      <th>Confirmed</th>\n      <th>Deaths</th>\n    </tr>\n  </thead>\n  <tbody>\n    <tr>\n      <td>0</td>\n      <td>2020-01-22</td>\n      <td>Hong Kong</td>\n      <td>0.0</td>\n      <td>0.0</td>\n    </tr>\n    <tr>\n      <td>1</td>\n      <td>2020-01-22</td>\n      <td>Japan</td>\n      <td>2.0</td>\n      <td>0.0</td>\n    </tr>\n    <tr>\n      <td>2</td>\n      <td>2020-01-22</td>\n      <td>Macao</td>\n      <td>1.0</td>\n      <td>0.0</td>\n    </tr>\n    <tr>\n      <td>3</td>\n      <td>2020-01-22</td>\n      <td>China</td>\n      <td>547.0</td>\n      <td>17.0</td>\n    </tr>\n    <tr>\n      <td>4</td>\n      <td>2020-01-22</td>\n      <td>South Korea</td>\n      <td>1.0</td>\n      <td>0.0</td>\n    </tr>\n    <tr>\n      <td>...</td>\n      <td>...</td>\n      <td>...</td>\n      <td>...</td>\n      <td>...</td>\n    </tr>\n    <tr>\n      <td>12287</td>\n      <td>2020-05-07</td>\n      <td>Western Sahara</td>\n      <td>6.0</td>\n      <td>0.0</td>\n    </tr>\n    <tr>\n      <td>12288</td>\n      <td>2020-05-07</td>\n      <td>Yemen</td>\n      <td>25.0</td>\n      <td>5.0</td>\n    </tr>\n    <tr>\n      <td>12289</td>\n      <td>2020-05-07</td>\n      <td>Zambia</td>\n      <td>153.0</td>\n      <td>4.0</td>\n    </tr>\n    <tr>\n      <td>12290</td>\n      <td>2020-05-07</td>\n      <td>Zimbabwe</td>\n      <td>34.0</td>\n      <td>4.0</td>\n    </tr>\n    <tr>\n      <td>12291</td>\n      <td>2020-05-07</td>\n      <td>Total</td>\n      <td>3845718.0</td>\n      <td>269567.0</td>\n    </tr>\n  </tbody>\n</table>\n<p>12292 rows × 4 columns</p>\n</div>"
     },
     "metadata": {},
     "execution_count": 3
    }
   ],
   "source": [
    "# forloop init\n",
    "current_date = start_date\n",
    "combine_df = pd.DataFrame()\n",
    "# i is the index of combine_df\n",
    "cur_index = 0\n",
    "\n",
    "for day in range(int(days)):\n",
    "    # convert date into string and load in csv\n",
    "    load_string = current_date.strftime(\"%m-%d-%Y\")\n",
    "    today_df = pd.read_csv(data_loc + load_string +\n",
    "                               '.csv')\n",
    "    try:\n",
    "        today_group = today_df.groupby('Country/Region')\n",
    "    except:\n",
    "        # deal with data column format change\n",
    "        today_group = today_df.groupby('Country_Region')\n",
    "    # total count init\n",
    "    day_deaths_tot = today_df['Deaths'].sum()\n",
    "    day_confirmed_tot = today_df['Confirmed'].sum()\n",
    "    # Loop through intrested countries\n",
    "    current_df=pd.DataFrame()\n",
    "    for country in today_group.groups:\n",
    "        country_df = today_group.get_group(country)\n",
    "        # Deal with different country naming conventions\n",
    "        if country.find('Korea')!=-1:\n",
    "            country_name = \"South Korea\"\n",
    "        elif ((country.find('Taiwan')!=-1)|(country.find('Taipei')!=-1)):\n",
    "            country_name = \"Taiwan\"\n",
    "        elif country.find('China')!=-1:\n",
    "            country_name = \"China\"\n",
    "        elif country.find('Iran')!=-1:\n",
    "            country_name = \"Iran\"\n",
    "        elif country.find('Congo')!=-1:\n",
    "            country_name = \"Republic of the Congo\"\n",
    "        elif (country == 'UK') | (country == 'North Ireland'):\n",
    "            country_name = \"United Kingdom\"\n",
    "        elif country.find('Hong Kong')!=-1:\n",
    "            country_name = \"Hong Kong\"\n",
    "        elif country.find('Russia')!=-1:\n",
    "            country_name = \"Russia\"\n",
    "        elif ((country.find('Macao')!=-1)|(country.find('Macau')!=-1)):\n",
    "            country_name = \"Macao\"\n",
    "        elif country == 'St. Martin':\n",
    "            country_name ='Saint Martin'\n",
    "        elif country.find('Bahamas')!=-1:\n",
    "            country_name ='Bahams'\n",
    "        elif (country=='Faroe Islands')|(country=='Channel Islands')|(country=='Cayman Islands'):\n",
    "            country_name ='United Kingdom'\n",
    "        elif country =='US':\n",
    "            country_name = 'United States of America'\n",
    "        elif country =='Diamond Princess':\n",
    "            country_name = 'Japan'  \n",
    "        elif country == 'Republic of Ireland':\n",
    "            country_name ='Ireland'\n",
    "        elif country.find('Azerbaijan')!=-1:\n",
    "            country_name='Azerbaijan'\n",
    "        elif country.find('Palestin')!=-1:\n",
    "            country_name='Palestine'\n",
    "        elif country.find('Verde')!=-1:\n",
    "            country_name='Cape Verde'\n",
    "        elif country.find('Czech')!=-1:\n",
    "            country_name='Czech Republic'\n",
    "        elif country.find('Gambia')!=-1:\n",
    "            country_name='Gambia'\n",
    "        elif country == \"Cote d'Ivoire\":\n",
    "            country_name = 'Ivory Coast'\n",
    "        elif country == \"Vietnam\":\n",
    "            country_name = 'Viet Nam'\n",
    "        elif country.find('Moldova')!= -1:\n",
    "            country_name = 'Moldova'\n",
    "        else:\n",
    "            country_name = country\n",
    "        # Write to a daily temporary df\n",
    "        if current_df.empty:\n",
    "            row = pd.DataFrame({'Date': current_date, 'Country/Region': country_name,\n",
    "                                        'Confirmed': country_df['Confirmed'].sum(), 'Deaths': country_df['Deaths'].sum()}, index=[cur_index])\n",
    "            cur_index += 1\n",
    "            current_df = pd.concat([row, current_df])\n",
    "        elif current_df[current_df['Country/Region']==country_name].empty:\n",
    "            row = pd.DataFrame({'Date': current_date, 'Country/Region': country_name,\n",
    "                                        'Confirmed': country_df['Confirmed'].sum(), 'Deaths': country_df['Deaths'].sum()}, index=[cur_index])\n",
    "            cur_index += 1\n",
    "            current_df = pd.concat([row, current_df])\n",
    "        else:\n",
    "            # If country already exist today, add to number instead of creating new rows\n",
    "            this_country_index_today = current_df[current_df['Country/Region']==country_name].index[0]\n",
    "            death_temp = current_df.loc[this_country_index_today]['Deaths']\n",
    "            cases_temp = current_df.loc[this_country_index_today]['Confirmed']\n",
    "            current_df.at[this_country_index_today,'Deaths'] = death_temp +country_df['Deaths'].sum()\n",
    "            current_df.at[this_country_index_today,'Confirmed'] = cases_temp +country_df['Confirmed'].sum()\n",
    "    # add a total row\n",
    "    row = pd.DataFrame({'Date': current_date, 'Country/Region': 'Total',\n",
    "                                    'Confirmed': day_confirmed_tot, 'Deaths':  day_deaths_tot}, index=[cur_index]) \n",
    "    cur_index +=1\n",
    "    current_df = pd.concat([row, current_df])\n",
    "    # Add to a overall df\n",
    "    combine_df=combine_df.append(current_df)\n",
    "    current_date = current_date + dt.timedelta(days=1)\n",
    "combine_df=combine_df.sort_index()\n",
    "combine_df"
   ]
  },
  {
   "cell_type": "code",
   "execution_count": 4,
   "metadata": {},
   "outputs": [
    {
     "output_type": "execute_result",
     "data": {
      "text/plain": "Date               object\nCountry/Region     object\nConfirmed         float64\nDeaths            float64\ndtype: object"
     },
     "metadata": {},
     "execution_count": 4
    }
   ],
   "source": [
    "combine_df.dtypes"
   ]
  },
  {
   "cell_type": "code",
   "execution_count": 5,
   "metadata": {},
   "outputs": [
    {
     "output_type": "execute_result",
     "data": {
      "text/plain": "Date              object\nCountry/Region    object\nConfirmed          int32\nDeaths             int32\ndtype: object"
     },
     "metadata": {},
     "execution_count": 5
    }
   ],
   "source": [
    "combine_df['Confirmed']=combine_df['Confirmed'].astype(int)\n",
    "combine_df['Deaths']=combine_df['Deaths'].astype(int)\n",
    "combine_df.dtypes\n"
   ]
  },
  {
   "cell_type": "code",
   "execution_count": 6,
   "metadata": {},
   "outputs": [],
   "source": [
    "combine_df.to_csv('../cleaned_data/In_progress/covid_daily_world.csv', index=False)"
   ]
  },
  {
   "cell_type": "code",
   "execution_count": 7,
   "metadata": {},
   "outputs": [
    {
     "output_type": "execute_result",
     "data": {
      "text/plain": "array(['Hong Kong', 'Japan', 'Macao', 'China', 'South Korea', 'Taiwan',\n       'Thailand', 'United States of America', 'Total', 'Australia',\n       'Brazil', 'Colombia', 'Malaysia', 'Mexico', 'Philippines',\n       'Singapore', 'Viet Nam', 'France', 'Nepal', 'Canada', 'Cambodia',\n       'Ivory Coast', 'Sri Lanka', 'Germany', 'Finland',\n       'United Arab Emirates', 'India', 'Italy', 'Russia', 'Sweden',\n       'United Kingdom', 'Spain', 'Belgium', 'Others', 'Egypt', 'Iran',\n       'Israel', 'Lebanon', 'Iraq', 'Afghanistan', 'Bahrain', 'Kuwait',\n       'Oman', 'Algeria', 'Austria', 'Croatia', 'Switzerland', 'Georgia',\n       'Greece', 'North Macedonia', 'Norway', 'Pakistan', 'Romania',\n       'Denmark', 'Estonia', 'Netherlands', 'San Marino', 'Azerbaijan',\n       'Belarus', 'Iceland', 'Lithuania', 'New Zealand', 'Nigeria',\n       'Ireland', 'Luxembourg', 'Monaco', 'Qatar', 'Armenia',\n       'Czech Republic', 'Dominican Republic', 'Ecuador', 'Andorra',\n       'Indonesia', 'Latvia', 'Morocco', 'Portugal', 'Saudi Arabia',\n       'Senegal', 'Argentina', 'Chile', 'Jordan', 'Ukraine', 'Gibraltar',\n       'Hungary', 'Liechtenstein', 'Poland', 'Saint Barthelemy',\n       'Tunisia', 'Bosnia and Herzegovina', 'Palestine', 'Slovenia',\n       'South Africa', 'Bhutan', 'Cameroon', 'Costa Rica', 'Peru',\n       'Serbia', 'Slovakia', 'Togo', 'Vatican City', 'French Guiana',\n       'Malta', 'Martinique', 'Bangladesh', 'Bulgaria', 'Maldives',\n       'Moldova', 'Paraguay', 'Albania', 'Brunei', 'Cyprus',\n       'Saint Martin', 'Burkina Faso', 'Holy See', 'Mongolia', 'Panama',\n       'Bolivia', 'Republic of the Congo', 'Cruise Ship', 'Honduras',\n       'Jamaica', 'Reunion', 'Turkey', 'Cuba', 'Guyana',\n       'Antigua and Barbuda', 'Aruba', 'Ethiopia', 'Guadeloupe', 'Guinea',\n       'Kazakhstan', 'Kenya', 'Sudan', 'Curacao', 'Eswatini', 'Gabon',\n       'Ghana', 'Guatemala', 'Guernsey', 'Jersey', 'Mauritania',\n       'Namibia', 'Rwanda', 'Saint Lucia',\n       'Saint Vincent and the Grenadines', 'Seychelles', 'Suriname',\n       'Trinidad and Tobago', 'Uruguay', 'Venezuela',\n       'Central African Republic', 'Equatorial Guinea', 'Kosovo',\n       'Uzbekistan', 'Benin', 'Greenland', 'Guam', 'Liberia', 'Mayotte',\n       'Puerto Rico', 'Somalia', 'Tanzania', 'Bahams', 'Barbados',\n       'Montenegro', 'Gambia', 'Djibouti', 'Kyrgyzstan', 'Mauritius',\n       'Zambia', 'Chad', 'El Salvador', 'Fiji', 'Nicaragua', 'Angola',\n       'Cape Verde', 'Haiti', 'Madagascar', 'Niger', 'Papua New Guinea',\n       'Zimbabwe', 'East Timor', 'Eritrea', 'Uganda', 'Dominica',\n       'Grenada', 'Mozambique', 'Syria', 'Timor-Leste', 'Belize', 'Laos',\n       'Libya', 'Guinea-Bissau', 'Mali', 'Saint Kitts and Nevis',\n       'West Bank and Gaza', 'Burma', 'MS Zaandam', 'Botswana', 'Burundi',\n       'Sierra Leone', 'Malawi', 'South Sudan', 'Western Sahara',\n       'Sao Tome and Principe', 'Yemen', 'Comoros', 'Tajikistan'],\n      dtype=object)"
     },
     "metadata": {},
     "execution_count": 7
    }
   ],
   "source": [
    "# check country name formmating\n",
    "combine_df['Country/Region'].unique()"
   ]
  },
  {
   "cell_type": "code",
   "execution_count": null,
   "metadata": {},
   "outputs": [],
   "source": []
  }
 ],
 "metadata": {
  "file_extension": ".py",
  "kernelspec": {
   "display_name": "Python 3.7.4 64-bit ('base': conda)",
   "language": "python",
   "name": "python37464bitbaseconda6b55c75a92594a4496380a81f2f453fd"
  },
  "language_info": {
   "codemirror_mode": {
    "name": "ipython",
    "version": 3
   },
   "file_extension": ".py",
   "mimetype": "text/x-python",
   "name": "python",
   "nbconvert_exporter": "python",
   "pygments_lexer": "ipython3",
   "version": "3.7.4-final"
  },
  "mimetype": "text/x-python",
  "name": "python",
  "npconvert_exporter": "python",
  "pygments_lexer": "ipython3",
  "version": 3
 },
 "nbformat": 4,
 "nbformat_minor": 2
}