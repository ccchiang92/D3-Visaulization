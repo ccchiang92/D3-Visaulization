{
 "cells": [
  {
   "cell_type": "code",
   "execution_count": 1,
   "metadata": {},
   "outputs": [],
   "source": [
    "# Python script to scarp WHO for SARS data and clean\n",
    "# By Chris Chiang\n",
    "import pandas as pd\n",
    "from bs4 import BeautifulSoup as bs\n",
    "import requests\n",
    "import datetime as dt\n",
    "from splinter import Browser\n",
    "import time\n",
    "import re\n"
   ]
  },
  {
   "cell_type": "code",
   "execution_count": 2,
   "metadata": {},
   "outputs": [],
   "source": [
    "def start_browser():\n",
    "    # browser init for webscraping\n",
    "    executable_path = {'executable_path': 'chromedriver.exe'}\n",
    "    browser = Browser('chrome', **executable_path, headless=False)\n",
    "    return browser"
   ]
  },
  {
   "cell_type": "code",
   "execution_count": 3,
   "metadata": {},
   "outputs": [
    {
     "output_type": "stream",
     "name": "stdout",
     "text": "2003-03-17\n2003-03-18\n2003-03-19\n2003-03-20\n2003-03-21\n2003-03-22\nno data for 2003_03_23\n2003-03-24\n2003-03-25\n2003-03-26\n2003-03-27\n2003-03-28\n2003-03-29\nno data for 2003_03_30\n2003-03-31\n2003-04-01\n2003-04-02\n2003-04-03\n2003-04-04\n2003-04-05\nno data for 2003_04_06\n2003-04-07\n2003-04-08\n2003-04-09\n2003-04-10\n2003-04-11\n2003-04-12\nno data for 2003_04_13\n2003-04-14\n2003-04-15\n2003-04-16\n2003-04-17\n2003-04-18\n2003-04-19\nno data for 2003_04_20\n2003-04-21\n2003-04-22\n2003-04-23\n2003-04-24\n2003-04-25\n2003-04-26\nno data for 2003_04_27\n2003-04-28\n2003-04-29\n2003-04-30\n2003-05-01\n2003-05-02\n2003-05-03\nno data for 2003_05_04\n2003-05-05\n2003-05-06\n2003-05-07\n2003-05-08\n2003-05-09\n2003-05-10\nno data for 2003_05_11\n2003-05-12\n2003-05-13\n2003-05-14\n2003-05-15\n2003-05-16\n2003-05-17\nno data for 2003_05_18\n2003-05-19\n2003-05-20\n2003-05-21\n2003-05-22\n2003-05-23\n2003-05-24\nno data for 2003_05_25\n2003-05-26\n2003-05-27\n2003-05-28\n2003-05-29\n2003-05-30\n2003-05-31\nno data for 2003_06_01\n2003-06-02\n2003-06-03\n2003-06-04\n2003-06-05\n2003-06-06\nno data for 2003_06_07\nno data for 2003_06_08\n2003-06-09\n2003-06-10\n2003-06-11\n2003-06-12\n2003-06-13\nno data for 2003_06_14\nno data for 2003_06_15\n2003-06-16\n2003-06-17\n2003-06-18\n2003-06-19\n2003-06-20\nno data for 2003_06_21\nno data for 2003_06_22\n2003-06-23\n2003-06-24\n2003-06-25\n2003-06-26\n2003-06-27\nno data for 2003_06_28\nno data for 2003_06_29\n2003-06-30\n2003-07-01\n2003-07-02\n2003-07-03\n2003-07-04\nno data for 2003_07_05\nno data for 2003_07_06\n2003-07-07\n2003-07-08\n2003-07-09\n2003-07-10\n2003-07-11\n"
    },
    {
     "output_type": "execute_result",
     "data": {
      "text/plain": "          Date                   Country Cases Deaths\n1   2003-03-17                   Germany     1      0\n2   2003-03-17                    Canada     8      2\n3   2003-03-17                 Singapore    20      0\n4   2003-03-17                 Hong Kong    95    1**\n5   2003-03-17               Switzerland     2      0\n..         ...                       ...   ...    ...\n28  2003-07-11                  Thailand     9      2\n29  2003-07-11            United Kingdom     4      0\n30  2003-07-11  United States of America    75      0\n31  2003-07-11                  Viet Nam    63      5\n32  2003-07-11                     Total  8437    813\n\n[2694 rows x 4 columns]",
      "text/html": "<div>\n<style scoped>\n    .dataframe tbody tr th:only-of-type {\n        vertical-align: middle;\n    }\n\n    .dataframe tbody tr th {\n        vertical-align: top;\n    }\n\n    .dataframe thead th {\n        text-align: right;\n    }\n</style>\n<table border=\"1\" class=\"dataframe\">\n  <thead>\n    <tr style=\"text-align: right;\">\n      <th></th>\n      <th>Date</th>\n      <th>Country</th>\n      <th>Cases</th>\n      <th>Deaths</th>\n    </tr>\n  </thead>\n  <tbody>\n    <tr>\n      <td>1</td>\n      <td>2003-03-17</td>\n      <td>Germany</td>\n      <td>1</td>\n      <td>0</td>\n    </tr>\n    <tr>\n      <td>2</td>\n      <td>2003-03-17</td>\n      <td>Canada</td>\n      <td>8</td>\n      <td>2</td>\n    </tr>\n    <tr>\n      <td>3</td>\n      <td>2003-03-17</td>\n      <td>Singapore</td>\n      <td>20</td>\n      <td>0</td>\n    </tr>\n    <tr>\n      <td>4</td>\n      <td>2003-03-17</td>\n      <td>Hong Kong</td>\n      <td>95</td>\n      <td>1**</td>\n    </tr>\n    <tr>\n      <td>5</td>\n      <td>2003-03-17</td>\n      <td>Switzerland</td>\n      <td>2</td>\n      <td>0</td>\n    </tr>\n    <tr>\n      <td>...</td>\n      <td>...</td>\n      <td>...</td>\n      <td>...</td>\n      <td>...</td>\n    </tr>\n    <tr>\n      <td>28</td>\n      <td>2003-07-11</td>\n      <td>Thailand</td>\n      <td>9</td>\n      <td>2</td>\n    </tr>\n    <tr>\n      <td>29</td>\n      <td>2003-07-11</td>\n      <td>United Kingdom</td>\n      <td>4</td>\n      <td>0</td>\n    </tr>\n    <tr>\n      <td>30</td>\n      <td>2003-07-11</td>\n      <td>United States of America</td>\n      <td>75</td>\n      <td>0</td>\n    </tr>\n    <tr>\n      <td>31</td>\n      <td>2003-07-11</td>\n      <td>Viet Nam</td>\n      <td>63</td>\n      <td>5</td>\n    </tr>\n    <tr>\n      <td>32</td>\n      <td>2003-07-11</td>\n      <td>Total</td>\n      <td>8437</td>\n      <td>813</td>\n    </tr>\n  </tbody>\n</table>\n<p>2694 rows × 4 columns</p>\n</div>"
     },
     "metadata": {},
     "execution_count": 3
    }
   ],
   "source": [
    "# setting date parameters\n",
    "start_date = dt.date(2003, 3,17)\n",
    "# start_date = dt.date(2003, 6,5)\n",
    "\n",
    "format_change_date1 =dt.date(2003,4,10)\n",
    "format_change_date2 =dt.date(2003,4,24)\n",
    "end_date = dt.date(2003, 7,12)\n",
    "# end_date = dt.date(2003, 6,10)\n",
    "cur_date = start_date\n",
    "# Setting browers params\n",
    "output_df=pd.DataFrame({'Date':'', 'Country':'','Cases':'','Deaths':''},index=[])\n",
    "home ='https://www.who.int/csr/sars/country/en/'\n",
    "browser=start_browser()\n",
    "browser.visit(home)\n",
    "# loop though WHO links\n",
    "while cur_date!= end_date:\n",
    "    # search string formatting\n",
    "    date_string = cur_date.strftime(\"%Y_%m_%d\")\n",
    "    # if date_string[0]=='0':\n",
    "    #     date_string=date_string[1:]\n",
    "    # Catch some missing dates\n",
    "    try:\n",
    "        if cur_date==dt.date(2003, 3,17):\n",
    "            browser.visit('https://www.who.int/csr/sars/country/table/en/')\n",
    "        elif cur_date==dt.date(2003, 3,18):\n",
    "            browser.visit('https://www.who.int/csr/sars/country/tablemarch18/en/')\n",
    "        elif cur_date==dt.date(2003, 5,24):\n",
    "            browser.visit('https://www.who.int/csr/sars/country/'+date_string+'a/en/')\n",
    "        elif cur_date==dt.date(2003, 3,19):\n",
    "            browser.visit('https://www.who.int/csr/sars/country/2003_19_03/en/')\n",
    "        else:\n",
    "            browser.visit('https://www.who.int/csr/sars/country/'+date_string+'/en/')\n",
    "        # browser.click_link_by_partial_text(date_string)\n",
    "        html = bs(browser.html, 'html.parser')\n",
    "        tab_tag=html.find('table')\n",
    "        # read html table into df\n",
    "        temp_df = pd.read_html(str(tab_tag))[0]\n",
    "        # browser.back()\n",
    "        # Deal with some region name formatting\n",
    "        if cur_date == dt.date(2003,6,9):\n",
    "            temp_df = temp_df.iloc[:-1]\n",
    "        for index, row in temp_df.iterrows():\n",
    "            if row[0].find('Hong Kong') != -1:\n",
    "                temp_df.iloc[index,0]=\"Hong Kong\"\n",
    "            elif row[0].find('Taiwan') != -1:\n",
    "                temp_df.iloc[index,0]=\"Taiwan\"\n",
    "            elif row[0].find('Guangdong') != -1:\n",
    "                temp_df.iloc[index,0]=\"China\"\n",
    "            elif row[0].find('Macao') != -1:\n",
    "                temp_df.iloc[index,0]=\"Macao\"\n",
    "            elif row[0].find('China +') != -1:\n",
    "                temp_df.iloc[index,0]=\"China\"\n",
    "            elif row[0].find('Ireland') != -1:\n",
    "                temp_df.iloc[index,0]=\"Ireland\"\n",
    "            elif row[0].find('Korea') != -1:\n",
    "                temp_df.iloc[index,0]=\"South Korea\"\n",
    "            elif row[0].find('United States') != -1:\n",
    "                temp_df.iloc[index,0]=\"United States of America\"\n",
    "            elif row[0].find('Viet Nam') != -1:\n",
    "                temp_df.iloc[index,0]=\"Viet Nam\"\n",
    "            elif row[0].find('Russia') != -1:\n",
    "                temp_df.iloc[index,0]=\"Russia\"\n",
    "        # table format 1\n",
    "        if cur_date < format_change_date1:\n",
    "            temp_df=temp_df.iloc[1:,:3]\n",
    "            temp_df.rename(columns={0:'Country',1:'Cases',2:'Deaths'},inplace=True)\n",
    "            temp_df['Date']=cur_date\n",
    "            temp_df=temp_df[['Date','Country','Cases','Deaths']]\n",
    "            output_df=output_df.append(temp_df)\n",
    "        # table format 2\n",
    "        elif cur_date < format_change_date2:\n",
    "            temp_df=temp_df.iloc[2:,:4]\n",
    "            temp_df.rename(columns={0:'Country',1:'Cases',3:'Deaths'},inplace=True)\n",
    "            temp_df['Date']=cur_date\n",
    "            temp_df=temp_df[['Date','Country','Cases','Deaths']]\n",
    "            output_df=output_df.append(temp_df)\n",
    "        # format 3\n",
    "        else:\n",
    "            append_df=pd.DataFrame()\n",
    "            append_df['Country']=temp_df.iloc[:,0]\n",
    "            append_df['Cases']=temp_df.iloc[:,1]\n",
    "            append_df['Deaths']=temp_df.iloc[:,3]\n",
    "            append_df['Date']=cur_date\n",
    "            append_df=append_df[['Date','Country','Cases','Deaths']]\n",
    "            output_df=output_df.append(append_df)\n",
    "        print(cur_date)\n",
    "        # Increment day\n",
    "        cur_date += dt.timedelta(days=1)\n",
    "    except:\n",
    "        print('no data for '+date_string)\n",
    "        cur_date += dt.timedelta(days=1)\n",
    "browser.quit()\n",
    "output_df"
   ]
  },
  {
   "cell_type": "code",
   "execution_count": 4,
   "metadata": {},
   "outputs": [],
   "source": [
    "# Set new index \n",
    "import numpy as np\n",
    "output_df=output_df.set_index(np.arange(0,2694))"
   ]
  },
  {
   "cell_type": "code",
   "execution_count": 5,
   "metadata": {},
   "outputs": [],
   "source": [
    "# cleaning and formating output\n",
    "# Using regex\n",
    "# remove a few wrongly inserted rows\n",
    "output_df_cleaned = output_df[output_df['Country']!='Country']\n",
    "# Remove special characters in country\n",
    "alphabet_only = re.compile('[^a-zA-Z ]')\n",
    "output_df_cleaned['Country']=output_df_cleaned['Country'].apply(lambda x:alphabet_only.sub('',x))\n",
    "# Remove special characters in Cases and deaths\n",
    "formater = lambda x:int(re.sub('[^0-9]','',str(x))) if(type(x)==str) else int(x)\n",
    "output_df_cleaned['Cases']=output_df_cleaned['Cases'].fillna('0').apply(formater)\n",
    "output_df_cleaned['Deaths']=output_df_cleaned['Deaths'].fillna('0').apply(formater)\n",
    "\n"
   ]
  },
  {
   "cell_type": "code",
   "execution_count": 6,
   "metadata": {},
   "outputs": [
    {
     "output_type": "execute_result",
     "data": {
      "text/plain": "Date       object\nCountry    object\nCases       int64\nDeaths      int64\ndtype: object"
     },
     "metadata": {},
     "execution_count": 6
    }
   ],
   "source": [
    "output_df_cleaned.dtypes"
   ]
  },
  {
   "cell_type": "code",
   "execution_count": 7,
   "metadata": {},
   "outputs": [
    {
     "output_type": "execute_result",
     "data": {
      "text/plain": "array(['Germany', 'Canada', 'Singapore', 'Hong Kong', 'Switzerland',\n       'Thailand', 'Viet Nam', 'Total', 'China', 'Taiwan', 'Slovenia',\n       'United Kingdom', 'Spain', 'United States of America', 'Italy',\n       'Ireland', 'France', 'Romania', 'Australia', 'Belgium', 'Brazil',\n       'Malaysia', 'Kuwait', 'Japan', 'South Africa', 'Indonesia',\n       'Philippines', 'Sweden', 'India', 'Mongolia', 'Bulgaria',\n       'South Korea', 'Macao', 'Poland', 'New Zealand', 'Colombia',\n       'Finland', 'Russia'], dtype=object)"
     },
     "metadata": {},
     "execution_count": 7
    }
   ],
   "source": [
    "output_df_cleaned['Country'].unique()"
   ]
  },
  {
   "cell_type": "code",
   "execution_count": 8,
   "metadata": {},
   "outputs": [
    {
     "output_type": "execute_result",
     "data": {
      "text/plain": "array([  0,   2,   1,   4,   5,   9,   6,  10,   7,  11,   3,  17,  31,\n        49,  34,  53,  54,  13,  58,  16,  62,  46,  78,  79,  84,  20,\n        89,  23,  98,  25,   8, 103,  27, 106,  55,  30, 111,  32, 116,\n        35, 119,  64,  47,  12, 144,  56, 154,  61, 159,  65,  15, 165,\n        81, 182,  86,  94, 217,  92,  99, 229, 105, 251, 110, 109,  19,\n       263, 115, 274,  18, 122, 121,  21, 293, 131, 138, 321, 148, 150,\n        24, 353, 157, 372, 170, 162, 391,  22, 181, 417, 190, 179, 435,\n       206, 187,  26, 461, 214, 193, 478, 219, 204, 495, 224, 208, 506,\n       230, 210, 514, 235, 212, 526, 252, 218,  28, 552, 262, 225, 573,\n       267, 227, 587, 271, 234, 598, 275, 238, 611, 282, 243, 623, 289,\n        40, 643, 294, 253,  52, 662, 296, 255, 666, 300, 258,  60,  29,\n       682, 303, 260, 689, 308, 696, 317,  72, 725, 269,  76, 735, 325,\n       270, 745, 327, 273, 750, 328, 754, 332, 278, 764, 334, 770, 283,\n       772, 336, 284, 775, 338, 286, 779, 340, 288, 784, 343, 290, 789,\n       291, 790, 792, 346, 295,  83, 799,  33, 347, 801, 804, 805,  37,\n       807, 348, 808, 809, 297, 810, 298, 811,  38, 812, 813], dtype=int64)"
     },
     "metadata": {},
     "execution_count": 8
    }
   ],
   "source": [
    "output_df_cleaned['Deaths'].unique()"
   ]
  },
  {
   "cell_type": "code",
   "execution_count": 48,
   "metadata": {},
   "outputs": [
    {
     "output_type": "execute_result",
     "data": {
      "text/plain": "array([   1,    8,   20,   95,    2,   40,  167,    0,   23,  123,    3,\n         57,  219,  150,   31,   11,   56,  264,    9,  173,   34,    7,\n          4,   62,  306,  203,   39,    6,   13,  350,  222,   44,   22,\n         63,  386,  260,   65,    5,   37,   58,  456,  286,   69,  487,\n         19,  792,  316,   74, 1323,   28,  806,  367,   78,   45, 1408,\n         29,  425,   10,   86,   51, 1485,  470,   89,   59, 1550,  530,\n         91, 1622,   53,  685,   92, 1804, 1190,  708,   72, 2223,  734,\n         14,   98,   85, 2270, 1220,  761,   15,  100, 2353,  800,   17,\n        101,  115, 2416,  103, 1432, 1268,   27,  162,  193, 3293,   90,\n        883,   21,  106,  141, 2601, 1279,  928,  113,  148, 2671,   94,\n       1280,  970,  118,  149, 2722,   97, 1290,  998,  126,  154, 2781,\n       1309, 1059,  133,  166, 2890, 1108,  147, 2960, 1418,  158,  174,\n       3169, 1232, 3235, 1457, 1297,  199, 3389,  132, 1512, 1358,  177,\n        220, 3547, 1959, 1402,  178, 3861,  139, 2001, 1434,  186,   38,\n       3947,  140, 2305, 1458,  189, 4288, 2422, 1488,  192, 4439, 1510,\n         41,  195, 4649,  142, 2753, 1527,   49,  198, 4836, 2914, 1557,\n         66, 5050,  146, 3303, 1572,  201, 5462, 3460, 1589,   52, 5663,\n       3638, 1600,   54, 5865, 3799, 1611, 6054, 3971, 1621, 6234,  143,\n       5124, 1698,  238,  205,   64, 7628, 4280, 1637,  116,  204,   61,\n       6583, 4409, 1646, 6727, 4560, 1654,  125, 6903, 4698, 1661,  131,\n       7053,  145, 4805, 1667, 7183, 4884, 1674,  172, 7296, 5013, 1683,\n        184, 7447, 5086, 1689,  207, 7548, 5163, 1703,   12, 7699, 5191,\n       1706,  274, 7739, 5209, 1710, 7761, 5236, 1714,  344,  206,   67,\n       7864, 5248, 1718,  383, 7919, 5249, 1719,  418, 7956, 5271, 1722,\n        483, 8046, 5285, 1724,  538, 8117, 5309, 8141, 5316, 1726,  585,\n       8202, 5322, 1728,  596, 8221, 5323, 1730,  610, 8240,  151, 5325,\n       1732,  660, 8295,  159, 5328, 1736,  667, 8317,  188, 1739,  676,\n       8360,  230, 5329, 1754,  687,   71, 8435, 1746,  684, 8384,  213,\n       1747,  679,   68, 8398,  216, 1748,  678, 8402,  218,  677, 8403,\n       1750, 8404,  247, 5326, 1755,  697,   73, 8464,  246,   75, 8465,\n        229, 1753,  680, 8421,  686, 8430,  688,   70, 8445,  242, 5327,\n        693, 8454,  243,  698, 8460,  245,  695, 8462, 8461,  692, 8459,\n        249, 8458,  250,  251,  682, 8456,  681, 8450,  252, 8447, 8442,\n        674, 8439,  671, 8436, 8437], dtype=int64)"
     },
     "metadata": {},
     "execution_count": 48
    }
   ],
   "source": [
    "output_df_cleaned['Cases'].unique()"
   ]
  },
  {
   "cell_type": "code",
   "execution_count": 9,
   "metadata": {},
   "outputs": [],
   "source": [
    "# Save to csv\n",
    "output_df_cleaned.to_csv('../cleaned_data/In_progress/SARS_data.csv',index=False)"
   ]
  },
  {
   "cell_type": "code",
   "execution_count": 10,
   "metadata": {},
   "outputs": [
    {
     "output_type": "execute_result",
     "data": {
      "text/plain": "            Date                   Country  Cases  Deaths\n0     2003-03-17                   Germany      1       0\n1     2003-03-17                    Canada      8       2\n2     2003-03-17                 Singapore     20       0\n3     2003-03-17                 Hong Kong     95       1\n4     2003-03-17               Switzerland      2       0\n...          ...                       ...    ...     ...\n2689  2003-07-11                  Thailand      9       2\n2690  2003-07-11            United Kingdom      4       0\n2691  2003-07-11  United States of America     75       0\n2692  2003-07-11                  Viet Nam     63       5\n2693  2003-07-11                     Total   8437     813\n\n[2693 rows x 4 columns]",
      "text/html": "<div>\n<style scoped>\n    .dataframe tbody tr th:only-of-type {\n        vertical-align: middle;\n    }\n\n    .dataframe tbody tr th {\n        vertical-align: top;\n    }\n\n    .dataframe thead th {\n        text-align: right;\n    }\n</style>\n<table border=\"1\" class=\"dataframe\">\n  <thead>\n    <tr style=\"text-align: right;\">\n      <th></th>\n      <th>Date</th>\n      <th>Country</th>\n      <th>Cases</th>\n      <th>Deaths</th>\n    </tr>\n  </thead>\n  <tbody>\n    <tr>\n      <td>0</td>\n      <td>2003-03-17</td>\n      <td>Germany</td>\n      <td>1</td>\n      <td>0</td>\n    </tr>\n    <tr>\n      <td>1</td>\n      <td>2003-03-17</td>\n      <td>Canada</td>\n      <td>8</td>\n      <td>2</td>\n    </tr>\n    <tr>\n      <td>2</td>\n      <td>2003-03-17</td>\n      <td>Singapore</td>\n      <td>20</td>\n      <td>0</td>\n    </tr>\n    <tr>\n      <td>3</td>\n      <td>2003-03-17</td>\n      <td>Hong Kong</td>\n      <td>95</td>\n      <td>1</td>\n    </tr>\n    <tr>\n      <td>4</td>\n      <td>2003-03-17</td>\n      <td>Switzerland</td>\n      <td>2</td>\n      <td>0</td>\n    </tr>\n    <tr>\n      <td>...</td>\n      <td>...</td>\n      <td>...</td>\n      <td>...</td>\n      <td>...</td>\n    </tr>\n    <tr>\n      <td>2689</td>\n      <td>2003-07-11</td>\n      <td>Thailand</td>\n      <td>9</td>\n      <td>2</td>\n    </tr>\n    <tr>\n      <td>2690</td>\n      <td>2003-07-11</td>\n      <td>United Kingdom</td>\n      <td>4</td>\n      <td>0</td>\n    </tr>\n    <tr>\n      <td>2691</td>\n      <td>2003-07-11</td>\n      <td>United States of America</td>\n      <td>75</td>\n      <td>0</td>\n    </tr>\n    <tr>\n      <td>2692</td>\n      <td>2003-07-11</td>\n      <td>Viet Nam</td>\n      <td>63</td>\n      <td>5</td>\n    </tr>\n    <tr>\n      <td>2693</td>\n      <td>2003-07-11</td>\n      <td>Total</td>\n      <td>8437</td>\n      <td>813</td>\n    </tr>\n  </tbody>\n</table>\n<p>2693 rows × 4 columns</p>\n</div>"
     },
     "metadata": {},
     "execution_count": 10
    }
   ],
   "source": [
    "output_df_cleaned"
   ]
  },
  {
   "cell_type": "code",
   "execution_count": null,
   "metadata": {},
   "outputs": [],
   "source": []
  }
 ],
 "metadata": {
  "kernelspec": {
   "display_name": "Python 3.7.4 64-bit ('base': conda)",
   "language": "python",
   "name": "python37464bitbaseconda6b55c75a92594a4496380a81f2f453fd"
  },
  "language_info": {
   "codemirror_mode": {
    "name": "ipython",
    "version": 3
   },
   "file_extension": ".py",
   "mimetype": "text/x-python",
   "name": "python",
   "nbconvert_exporter": "python",
   "pygments_lexer": "ipython3",
   "version": "3.7.4-final"
  }
 },
 "nbformat": 4,
 "nbformat_minor": 2
}