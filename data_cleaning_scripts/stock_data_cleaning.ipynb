{
 "cells": [
  {
   "cell_type": "code",
   "execution_count": 1,
   "metadata": {},
   "outputs": [],
   "source": [
    "# Cleaning Raw Data from stock market data\n",
    "# By Chris Chiang\n",
    "import pandas as pd\n",
    "import datetime as dt\n",
    "import numpy as np"
   ]
  },
  {
   "cell_type": "code",
   "execution_count": 2,
   "metadata": {},
   "outputs": [],
   "source": [
    "# set up paths\n",
    "data_loc = '../raw_data/stock/'\n",
    "save_loc = '../cleaned_data/In_progress/stock/'\n",
    "# stock_name = 'DJI'\n",
    "# year = '2020'\n",
    "# Test read\n",
    "# stock_df = pd.read_csv(\n",
    "#     data_loc + stock_name +' '+year+'.csv')\n",
    "# stock_df.head()"
   ]
  },
  {
   "cell_type": "code",
   "execution_count": 3,
   "metadata": {},
   "outputs": [
    {
     "output_type": "execute_result",
     "data": {
      "text/plain": "         Date     Price  Daily Change %\n4  2020-04-30  24345.72           -1.17\n3  2020-05-01  23723.69           -2.55\n2  2020-05-04  23749.76            0.11\n1  2020-05-05  23883.09            0.56\n0  2020-05-06  23664.64           -0.91",
      "text/html": "<div>\n<style scoped>\n    .dataframe tbody tr th:only-of-type {\n        vertical-align: middle;\n    }\n\n    .dataframe tbody tr th {\n        vertical-align: top;\n    }\n\n    .dataframe thead th {\n        text-align: right;\n    }\n</style>\n<table border=\"1\" class=\"dataframe\">\n  <thead>\n    <tr style=\"text-align: right;\">\n      <th></th>\n      <th>Date</th>\n      <th>Price</th>\n      <th>Daily Change %</th>\n    </tr>\n  </thead>\n  <tbody>\n    <tr>\n      <td>4</td>\n      <td>2020-04-30</td>\n      <td>24345.72</td>\n      <td>-1.17</td>\n    </tr>\n    <tr>\n      <td>3</td>\n      <td>2020-05-01</td>\n      <td>23723.69</td>\n      <td>-2.55</td>\n    </tr>\n    <tr>\n      <td>2</td>\n      <td>2020-05-04</td>\n      <td>23749.76</td>\n      <td>0.11</td>\n    </tr>\n    <tr>\n      <td>1</td>\n      <td>2020-05-05</td>\n      <td>23883.09</td>\n      <td>0.56</td>\n    </tr>\n    <tr>\n      <td>0</td>\n      <td>2020-05-06</td>\n      <td>23664.64</td>\n      <td>-0.91</td>\n    </tr>\n  </tbody>\n</table>\n</div>"
     },
     "metadata": {},
     "execution_count": 3
    }
   ],
   "source": [
    "#  function to format csv files, return a cleaned data frame\n",
    "def csv_formater(name, year,conversion):\n",
    "    stock_df = pd.read_csv(\n",
    "    data_loc + name +' '+str(year)+'.csv')\n",
    "    cleaned_df = pd.DataFrame()\n",
    "    for index, row in stock_df.iterrows():\n",
    "        date = dt.datetime.strptime(stock_df.iloc[index]['Date'], '%b %d, %Y').date()\n",
    "        row = pd.DataFrame(\n",
    "            {'Date': date, 'Price': float(row['Price'].replace(',',''))*conversion, 'Daily Change %': float(row['Change %'].replace('%',\"\"))}, index=[index])\n",
    "        cleaned_df = pd.concat([row, cleaned_df])\n",
    "    return cleaned_df\n",
    "# Test\n",
    "csv_formater('DJI', 2020,1).tail()\n"
   ]
  },
  {
   "cell_type": "code",
   "execution_count": 4,
   "metadata": {},
   "outputs": [],
   "source": [
    "# Run cleaning script for each file\n",
    "# Can use coversion to do currency coversion\n",
    "conversion = 1\n",
    "name = 'DJI'\n",
    "year = 2020\n",
    "cur_df = csv_formater(name, year, conversion)\n",
    "cur_df.to_csv(save_loc+name + ' ' +str(year)+'.csv', index=False)\n",
    "year = 2003\n",
    "cur_df = csv_formater(name, year, conversion)\n",
    "cur_df.to_csv(save_loc+name + ' ' +str(year)+'.csv', index=False)\n",
    "year = 2014\n",
    "cur_df = csv_formater(name, year, conversion)\n",
    "cur_df.to_csv(save_loc+name + ' ' +str(year)+'.csv', index=False)"
   ]
  },
  {
   "cell_type": "code",
   "execution_count": 7,
   "metadata": {},
   "outputs": [],
   "source": [
    "name = 'SSE'\n",
    "conversion = 1\n",
    "year = 2020\n",
    "cur_df = csv_formater(name, year, conversion)\n",
    "cur_df.to_csv(save_loc+name + ' ' +str(year)+'.csv', index=False)\n",
    "year = 2003\n",
    "cur_df = csv_formater(name, year, conversion)\n",
    "cur_df.to_csv(save_loc+name + ' ' +str(year)+'.csv', index=False)\n",
    "year = 2014\n",
    "cur_df = csv_formater(name, year, conversion)\n",
    "cur_df.to_csv(save_loc+name + ' ' +str(year)+'.csv', index=False)"
   ]
  },
  {
   "cell_type": "code",
   "execution_count": 8,
   "metadata": {},
   "outputs": [],
   "source": [
    "name = 'EU50'\n",
    "conversion = 1\n",
    "year = 2020\n",
    "cur_df = csv_formater(name, year, conversion)\n",
    "cur_df.to_csv(save_loc+name + ' ' +str(year)+'.csv', index=False)\n",
    "year = 2014\n",
    "cur_df = csv_formater(name, year, conversion)\n",
    "cur_df.to_csv(save_loc+name + ' ' +str(year)+'.csv', index=False)"
   ]
  },
  {
   "cell_type": "code",
   "execution_count": 9,
   "metadata": {},
   "outputs": [],
   "source": [
    "name = 'FTSE'\n",
    "year = 2020\n",
    "conversion = 1\n",
    "cur_df = csv_formater(name, year, conversion)\n",
    "cur_df.to_csv(save_loc+name + ' ' +str(year)+'.csv', index=False)\n",
    "name = 'KOSPI'\n",
    "conversion = 1\n",
    "cur_df = csv_formater(name, year, conversion)\n",
    "cur_df.to_csv(save_loc+name + ' ' +str(year)+'.csv', index=False)\n",
    "name = 'HK'\n",
    "year = 2003\n",
    "conversion = 1\n",
    "cur_df = csv_formater(name, year, conversion)\n",
    "cur_df.to_csv(save_loc+name + ' ' +str(year)+'.csv', index=False)\n",
    "name = 'NSE'\n",
    "year = 2014\n",
    "conversion = 1\n",
    "cur_df = csv_formater(name, year, conversion)\n",
    "cur_df.to_csv(save_loc+name + ' ' +str(year)+'.csv', index=False)"
   ]
  },
  {
   "cell_type": "code",
   "execution_count": null,
   "metadata": {},
   "outputs": [],
   "source": []
  }
 ],
 "metadata": {
  "file_extension": ".py",
  "kernelspec": {
   "display_name": "Python 3.7.4 64-bit ('base': conda)",
   "language": "python",
   "name": "python37464bitbaseconda6b55c75a92594a4496380a81f2f453fd"
  },
  "language_info": {
   "codemirror_mode": {
    "name": "ipython",
    "version": 3
   },
   "file_extension": ".py",
   "mimetype": "text/x-python",
   "name": "python",
   "nbconvert_exporter": "python",
   "pygments_lexer": "ipython3",
   "version": "3.7.4-final"
  },
  "mimetype": "text/x-python",
  "name": "python",
  "npconvert_exporter": "python",
  "pygments_lexer": "ipython3",
  "version": 3
 },
 "nbformat": 4,
 "nbformat_minor": 2
}